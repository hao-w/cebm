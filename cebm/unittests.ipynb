{
 "cells": [
  {
   "cell_type": "code",
   "execution_count": null,
   "id": "ad132915",
   "metadata": {},
   "outputs": [],
   "source": [
    "%matplotlib inline\n",
    "import torch\n",
    "from cebm.model.ebm import IGEBM, CEBM_Gaussian, CEBM_GMM\n",
    "# from cebm.model.gan import BI\n",
    "\n",
    "dataset =  'svhn' # 'svhn' # 'cifar10' # 'mnist' #  'flowers102' #\n",
    "if dataset == 'mnist' or dataset =='fashionmnist':\n",
    "    input_channels, im_height, im_width = 1, 28, 28\n",
    "else:\n",
    "    input_channels, im_height, im_width = 3, 32, 32\n",
    "device = torch.device('cuda:1')\n",
    "seed = 123\n",
    "lr, reg_alpha = 1e-4, 1e-1\n",
    "optimize_ib = False\n",
    "if dataset == 'cifar10' or dataset == 'svhn':\n",
    "    channels, kernels, strides, paddings =[64,128,256,512], [3,4,4,4], [1,2,2,2], [1,1,1,1]\n",
    "    hidden_dim, latent_dim, activation = [1024], 128, 'Swish'\n",
    "elif dataset == 'mnist' or dataset == 'fashionmnist':\n",
    "    channels, kernels, strides, paddings =[64,64,32,32], [3,4,4,4], [1,2,2,2], [1,1,1,1]\n",
    "    hidden_dim, latent_dim, activation = [128], 128, 'Swish'\n",
    "else:\n",
    "    raise NotImplementError\n",
    "data_noise_std = 3e-2\n",
    "sgld_noise_std, sgld_lr, sgld_num_steps = 7.5e-3, 2.0, 60\n",
    "buffer_init, buffer_dup_allowed = True, True\n",
    "igebm = IGEBM(im_height=im_height, \n",
    "              im_width=im_width, \n",
    "              input_channels=input_channels, \n",
    "              channels=channels, \n",
    "              kernels=kernels, \n",
    "              strides=strides, \n",
    "              paddings=paddings,\n",
    "              activation=activation,\n",
    "              hidden_dim=hidden_dim,\n",
    "              latent_dim=latent_dim)\n",
    "\n",
    "cebm = CEBM_Gaussian(optimize_ib=optimize_ib,\n",
    "                    device=device,\n",
    "                    im_height=im_height, \n",
    "                      im_width=im_width, \n",
    "                      input_channels=input_channels, \n",
    "                      channels=channels, \n",
    "                      kernels=kernels, \n",
    "                      strides=strides, \n",
    "                      paddings=paddings,\n",
    "                      activation=activation,\n",
    "                      hidden_dim=hidden_dim,\n",
    "                      latent_dim=latent_dim)"
   ]
  },
  {
   "cell_type": "code",
   "execution_count": null,
   "id": "bf4491c0",
   "metadata": {},
   "outputs": [],
   "source": [
    "from cebm.data import *\n",
    "data_dir = './datasets/'\n",
    "data_list = ['svhn']\n",
    "for data in data_list:\n",
    "    dataset = setup_dataset(data, data_dir, num_shots=-1, train=True, normalize=True)"
   ]
  },
  {
   "cell_type": "code",
   "execution_count": 2,
   "id": "a4442487",
   "metadata": {},
   "outputs": [],
   "source": [
    "import argparse\n",
    "parser = argparse.ArgumentParser()"
   ]
  },
  {
   "cell_type": "code",
   "execution_count": 5,
   "id": "a6bc91fb",
   "metadata": {},
   "outputs": [
    {
     "name": "stderr",
     "output_type": "stream",
     "text": [
      "usage: ipykernel_launcher.py [-h]\n",
      "ipykernel_launcher.py: error: unrecognized arguments: -model_name CEBM -data mnist\n"
     ]
    },
    {
     "ename": "SystemExit",
     "evalue": "2",
     "output_type": "error",
     "traceback": [
      "An exception has occurred, use %tb to see the full traceback.\n",
      "\u001b[0;31mSystemExit\u001b[0m\u001b[0;31m:\u001b[0m 2\n"
     ]
    },
    {
     "name": "stderr",
     "output_type": "stream",
     "text": [
      "/home/hao/anaconda3/lib/python3.8/site-packages/IPython/core/interactiveshell.py:3435: UserWarning: To exit: use 'exit', 'quit', or Ctrl-D.\n",
      "  warn(\"To exit: use 'exit', 'quit', or Ctrl-D.\", stacklevel=1)\n"
     ]
    }
   ],
   "source": [
    "from cebm.train.train_ebm import parse_args\n",
    "args = parser.parse_args('-model_name CEBM -data mnist'.split())"
   ]
  },
  {
   "cell_type": "code",
   "execution_count": null,
   "id": "35299afc",
   "metadata": {},
   "outputs": [],
   "source": [
    "    network_args = {'im_height': im_h, \n",
    "                    'im_width': im_w, \n",
    "                    'input_channels': im_channels, \n",
    "                    'channels': eval(args.channels), \n",
    "                    'kernels': eval(args.kernels), \n",
    "                    'strides': eval(args.strides), \n",
    "                    'paddings': eval(args.paddings),\n",
    "                    'activation': args.activation,\n",
    "                    'hidden_dim': eval(args.hidden_dim),\n",
    "                    'latent_dim': args.latent_dim}\n",
    "    model_args = {'optimize_ib': args.optimize_ib,\n",
    "                  'device': device,\n",
    "                  'num_clusters': args.num_clusters}\n",
    "    models = init_models(args.model_name, device, model_args, network_args)"
   ]
  },
  {
   "cell_type": "code",
   "execution_count": 6,
   "id": "ed3de35b",
   "metadata": {},
   "outputs": [],
   "source": [
    "import torch\n",
    "a = torch.randn(1,2,3)"
   ]
  },
  {
   "cell_type": "code",
   "execution_count": 8,
   "id": "374bf855",
   "metadata": {},
   "outputs": [
    {
     "data": {
      "text/plain": [
       "torch.Size([2, 3])"
      ]
     },
     "execution_count": 8,
     "metadata": {},
     "output_type": "execute_result"
    }
   ],
   "source": [
    "a.squeeze(0).shape"
   ]
  },
  {
   "cell_type": "code",
   "execution_count": 9,
   "id": "1ddfcd1d",
   "metadata": {},
   "outputs": [
    {
     "data": {
      "text/plain": [
       "torch.Size([3, 2, 3])"
      ]
     },
     "execution_count": 9,
     "metadata": {},
     "output_type": "execute_result"
    }
   ],
   "source": [
    "b = torch.randn(3,2,3)\n",
    "b.squeeze(0).shape"
   ]
  },
  {
   "cell_type": "code",
   "execution_count": 10,
   "id": "4496f418",
   "metadata": {},
   "outputs": [
    {
     "data": {
      "text/html": [
       "<div>\n",
       "<style scoped>\n",
       "    .dataframe tbody tr th:only-of-type {\n",
       "        vertical-align: middle;\n",
       "    }\n",
       "\n",
       "    .dataframe tbody tr th {\n",
       "        vertical-align: top;\n",
       "    }\n",
       "\n",
       "    .dataframe thead th {\n",
       "        text-align: right;\n",
       "    }\n",
       "</style>\n",
       "<table border=\"1\" class=\"dataframe\">\n",
       "  <thead>\n",
       "    <tr style=\"text-align: right;\">\n",
       "      <th></th>\n",
       "      <th>a</th>\n",
       "      <th>b</th>\n",
       "    </tr>\n",
       "  </thead>\n",
       "  <tbody>\n",
       "  </tbody>\n",
       "</table>\n",
       "</div>"
      ],
      "text/plain": [
       "Empty DataFrame\n",
       "Columns: [a, b]\n",
       "Index: []"
      ]
     },
     "execution_count": 10,
     "metadata": {},
     "output_type": "execute_result"
    }
   ],
   "source": [
    "import pandas as pd\n",
    "pd.DataFrame(columns=['a', 'b'])"
   ]
  },
  {
   "cell_type": "code",
   "execution_count": null,
   "id": "3889d71c",
   "metadata": {},
   "outputs": [],
   "source": []
  }
 ],
 "metadata": {
  "kernelspec": {
   "display_name": "Python 3",
   "language": "python",
   "name": "python3"
  },
  "language_info": {
   "codemirror_mode": {
    "name": "ipython",
    "version": 3
   },
   "file_extension": ".py",
   "mimetype": "text/x-python",
   "name": "python",
   "nbconvert_exporter": "python",
   "pygments_lexer": "ipython3",
   "version": "3.8.5"
  }
 },
 "nbformat": 4,
 "nbformat_minor": 5
}
