{
 "cells": [
  {
   "cell_type": "code",
   "execution_count": null,
   "metadata": {},
   "outputs": [],
   "source": [
    "%matplotlib inline\n",
    "import torch\n",
    "from sebm.sgld import SGLD_sampler\n",
    "from sebm.models import CEBM_GMM_2ss\n",
    "dataset =  'cifar10' # 'svhn' # 'cifar10' # 'mnist' #  'flowers102' #\n",
    "if dataset == 'mnist' or dataset =='fashionmnist':\n",
    "    input_channels, im_height, im_width = 1, 28, 28\n",
    "else:\n",
    "    input_channels, im_height, im_width = 3, 32, 32\n",
    "device = torch.device('cuda:0')\n",
    "arch =  'simplenet2' \n",
    "ss = 2\n",
    "seed =  3\n",
    "# lr, reg_alpha = 1e-4, 1e-1 # \n",
    "lr ,reg_alpha = 5e-5, 5e-3 # 1e-1\n",
    "\n",
    "optimize_priors = True\n",
    "num_clusters = 20\n",
    "if dataset == 'cifar10' or dataset == 'svhn':\n",
    "    channels, kernels, strides, paddings =[64,128,256,512], [3,4,4,4], [1,2,2,2], [1,1,1,1]\n",
    "    hidden_dim, latent_dim, activation = [1024], 128, 'Swish'\n",
    "elif dataset == 'mnist' or dataset == 'fashionmnist':\n",
    "    \n",
    "    channels, kernels, strides, paddings =[64,64,32,32], [3,4,4,4], [1,2,2,2], [1,1,1,1]\n",
    "    hidden_dim, latent_dim, activation = [128], 128, 'Swish'\n",
    "else:\n",
    "    raise NotImplementError\n",
    "\n",
    "data_noise_std = 3e-2\n",
    "sgld_noise_std, sgld_lr, sgld_num_steps = 7.5e-3, 2.0, 60\n",
    "buffer_init, buffer_dup_allowed = True, True\n",
    "data_dir = '../../../sebm_data/'\n",
    "load_version = 'cebm_gmm_k=%d-d=%s-seed=%d-lr=%s-zd=%d-d_ns=%s-sgld-ns=%s-lr=%s-steps=%s-reg=%s-act=%s-arch=%s' % (num_clusters, dataset, seed, lr, latent_dim, data_noise_std, sgld_noise_std, sgld_lr, sgld_num_steps,  reg_alpha, activation, arch)\n",
    "if arch == 'simplenet2':\n",
    "    ebm = CEBM_GMM_2ss(K=num_clusters,\n",
    "                    arch=arch,\n",
    "                    optimize_priors=optimize_priors,\n",
    "                    device=device,\n",
    "                    im_height=im_height, \n",
    "                    im_width=im_width, \n",
    "                    input_channels=input_channels, \n",
    "                    channels=channels, \n",
    "                    kernels=kernels, \n",
    "                    strides=strides, \n",
    "                    paddings=paddings, \n",
    "                    hidden_dim=hidden_dim,\n",
    "                    latent_dim=latent_dim,\n",
    "                    activation=activation)\n",
    "else:\n",
    "    raise NotImplementError\n",
    "ebm = ebm.cuda().to(device)\n",
    "print('Loading trained weights..')\n",
    "weights = torch.load('../weights/weights/1012/cp-%s' % load_version)\n",
    "ebm.load_state_dict(weights['model_state_dict'])\n",
    "# if not optimize_priors:\n",
    "#     ebm.prior_mu = weights['prior_mu'].to(device)\n",
    "#     ebm.prior_log_sigma = weights['prior_log_sigma'].to(device)"
   ]
  },
  {
   "cell_type": "code",
   "execution_count": null,
   "metadata": {},
   "outputs": [],
   "source": [
    "from sebm.eval import *\n",
    "evaluator = Evaluator_EBM_GMM(ebm, device, dataset, data_dir, data_noise_std=1e-2)"
   ]
  },
  {
   "cell_type": "code",
   "execution_count": null,
   "metadata": {},
   "outputs": [],
   "source": [
    "fewshots(model_name='cebm_gmm', evaluator=evaluator)"
   ]
  },
  {
   "cell_type": "code",
   "execution_count": null,
   "metadata": {},
   "outputs": [],
   "source": [
    "# evaluator.oodauc(dataset_ood='texture', score='energy')"
   ]
  },
  {
   "cell_type": "code",
   "execution_count": null,
   "metadata": {},
   "outputs": [],
   "source": [
    "# similarity_z_space(evaluator, train_batch_size=2000, test_batch_size=2000, model_name='cebm_gmm')"
   ]
  },
  {
   "cell_type": "code",
   "execution_count": null,
   "metadata": {},
   "outputs": [],
   "source": [
    "# train_batch_size = 1000\n",
    "# for i in range(10):\n",
    "#     print('processing on dataset %d' % (i+1))\n",
    "#     test_data = torch.load('/home/hao/Research/sebm_data/overviewfig/%s/100/%d.pt' % (evaluator.dataset, i+1))\n",
    "#     min_distances, min_labels, nns = similarity_z_space_fewshots(evaluator, train_batch_size, test_data)\n",
    "#     plot_nearest_neighbors(test_data, nns, min_labels, min_distances, fs=1, save_name='%s_cebm_gmm_%d' % (dataset, (i+1)))"
   ]
  },
  {
   "cell_type": "code",
   "execution_count": null,
   "metadata": {},
   "outputs": [],
   "source": [
    "# semi_nn_clf(model_name='cebm_gmm', device=device, evaluator=evaluator, num_epochs=1)"
   ]
  },
  {
   "cell_type": "code",
   "execution_count": 1,
   "metadata": {},
   "outputs": [
    {
     "name": "stdout",
     "output_type": "stream",
     "text": [
      "0.53\n"
     ]
    }
   ],
   "source": [
    "print('%.2f' % 0.5255)"
   ]
  },
  {
   "cell_type": "code",
   "execution_count": null,
   "metadata": {},
   "outputs": [],
   "source": [
    "metrics =  ['pixel','vae_z', 'igebm_z', 'cebm_z']\n",
    "datasets = ['cifar10']\n",
    "import torch\n",
    "import numpy as np\n",
    "import matplotlib.pyplot as plt\n",
    "# for d in datasets:\n",
    "#     for m in metrics:\n",
    "plot_confusion_matrices(datasets, metrics)"
   ]
  },
  {
   "cell_type": "code",
   "execution_count": null,
   "metadata": {},
   "outputs": [],
   "source": [
    "def plot_confusion_matrices(dataset, metrics, fs=5):\n",
    "    for k, d in enumerate(datasets):\n",
    "        fig = plt.figure(figsize=(len(metrics)*fs, fs))\n",
    "        for i, m in enumerate(metrics):\n",
    "            ax = fig.add_subplot(1, len(metrics), i+1)\n",
    "            plot_confusion_matrix(ax, d, m, vmax=1.0)\n",
    "        plt.savefig('confusion/figures/cm_%s.png' % d)\n",
    "\n",
    "def plot_confusion_matrix(ax, dataset, metric, vmax=1.0):\n",
    "    l = torch.load('confusion/logging/confusion_matrix_labels_%s_%s.pt' % (metric, dataset)).long()\n",
    "    cm = torch.zeros((10, 10))\n",
    "    for i in range(len(l)):\n",
    "        cm[l[i, 0], l[i, 1]] += 1\n",
    "    for j in range(len(cm)):\n",
    "        cm[j] /= cm[j].sum()\n",
    "#     fig = plt.figure(figsize=(10, 10))\n",
    "#     ax = fig.add_subplot(111)\n",
    "    im = ax.imshow(cm, cmap='inferno', vmax=vmax, vmin=0.0)\n",
    "    if metric == 'pixel':\n",
    "        model = 'Pixel'\n",
    "    elif metric == 'vae_z':\n",
    "        model = 'VAE'\n",
    "    elif metric == 'igebm_z':\n",
    "        model = 'IGEBM'\n",
    "    elif metric == 'cebm_z' or 'cebm_z2':\n",
    "        model = 'CEBM'\n",
    "    elif metric =='cebm_gmm_z':\n",
    "        model = 'CEBMM'\n",
    "    else:\n",
    "        raise NotImplementError\n",
    "    ax.set_title('%s' % model, fontsize=20)\n",
    "#     plt.colorbar(im)\n",
    "    ax.tick_params(labelsize=12)\n",
    "    ticks = ['0', '1', '2', '3', '4', '5', '6', '7', '8', '9']\n",
    "    ax.set_xticks(np.arange(len(ticks)))\n",
    "    ax.set_yticks(np.arange(len(ticks)))\n",
    "    ax.set_xticklabels(ticks)\n",
    "    ax.set_yticklabels(ticks)\n",
    "    ax.set_ylabel('True Class Labels', fontsize=16)\n",
    "    ax.set_xlabel('Neighbor Class Labels', fontsize=16)\n",
    "    for i in range(len(ticks)):\n",
    "        for j in range(len(ticks)):\n",
    "            text = ax.text(j, i, round(cm[i, j].item(), 2),\n",
    "                           ha=\"center\", va=\"center\", color=(\"k\" if i == j else 'w'))\n",
    "#     plt.close()"
   ]
  },
  {
   "cell_type": "code",
   "execution_count": null,
   "metadata": {},
   "outputs": [],
   "source": [
    "datasets = ['svhn', 'texture', 'constant_rgb']\n",
    "scores = ['energy', 'gradient']\n",
    "for d in datasets:\n",
    "    for s in scores:\n",
    "        auroc = evaluator.oodauc(dataset_ood=d, score=s)\n",
    "        print('dataset=%s, score=%s, auroc=%.3f' % (d,s,auroc))"
   ]
  },
  {
   "cell_type": "code",
   "execution_count": null,
   "metadata": {},
   "outputs": [],
   "source": [
    "# logging_interval = 200 # None otherwise\n",
    "# test_batch_size = 10\n",
    "# init_samples, labels = draw_one_batch(1, dataset, data_dir, train=False, normalize=True, flatten=False)\n",
    "\n",
    "# images_ebm = evaluator.uncond_sampling_ll(sample_size=3,\n",
    "#                                           batch_size=test_batch_size, \n",
    "#                                           sgld_steps=2000,\n",
    "#                                           sgld_lr=2.0,\n",
    "#                                           sgld_noise_std=1e-3,\n",
    "#                                           init_images=init_samples,\n",
    "#                                           grad_clipping=False,\n",
    "#                                           logging_interval=None)\n",
    "# nearestneighbours = evaluator.nn_latents(images_ebm)\n",
    "# plot_evolving_samples(images_ebm, nearestneighbours, fs=8, save_name=None)"
   ]
  },
  {
   "cell_type": "code",
   "execution_count": null,
   "metadata": {},
   "outputs": [],
   "source": [
    "# evaluator.plot_all_samples(list_images=images_ebm, fs=1.0)"
   ]
  },
  {
   "cell_type": "code",
   "execution_count": null,
   "metadata": {},
   "outputs": [],
   "source": [
    "images_ebm = evaluator.uncond_sampling(batch_size=100, \n",
    "                                          sgld_steps=1000,\n",
    "                                          sgld_lr=2.0,\n",
    "                                          sgld_noise_std=1e-3,\n",
    "                                          grad_clipping=False,\n",
    "                                          init_samples=None,\n",
    "                                          logging_interval=None)\n",
    "evaluator.plot_final_samples(images_ebm, fs=5, save=False)"
   ]
  },
  {
   "cell_type": "code",
   "execution_count": null,
   "metadata": {},
   "outputs": [],
   "source": [
    "# evaluator.plot_all_samples(images_ebm, fs=6, save=True)"
   ]
  },
  {
   "cell_type": "code",
   "execution_count": null,
   "metadata": {},
   "outputs": [],
   "source": []
  },
  {
   "cell_type": "code",
   "execution_count": null,
   "metadata": {},
   "outputs": [],
   "source": [
    "# train_logistic_classifier(evaluator)"
   ]
  },
  {
   "cell_type": "code",
   "execution_count": null,
   "metadata": {},
   "outputs": [],
   "source": [
    "zs, ys = evaluator.compute_tsne()\n",
    "evaluator.plot_tsne(zs, ys, save=True)"
   ]
  },
  {
   "cell_type": "code",
   "execution_count": null,
   "metadata": {},
   "outputs": [],
   "source": []
  },
  {
   "cell_type": "code",
   "execution_count": null,
   "metadata": {},
   "outputs": [],
   "source": []
  }
 ],
 "metadata": {
  "kernelspec": {
   "display_name": "Python 3",
   "language": "python",
   "name": "python3"
  },
  "language_info": {
   "codemirror_mode": {
    "name": "ipython",
    "version": 3
   },
   "file_extension": ".py",
   "mimetype": "text/x-python",
   "name": "python",
   "nbconvert_exporter": "python",
   "pygments_lexer": "ipython3",
   "version": "3.7.3"
  }
 },
 "nbformat": 4,
 "nbformat_minor": 4
}
