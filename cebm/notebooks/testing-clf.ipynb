{
 "cells": [
  {
   "cell_type": "code",
   "execution_count": 1,
   "metadata": {},
   "outputs": [
    {
     "ename": "ImportError",
     "evalue": "cannot import name 'init_clf' from 'sebm.supervised_clf' (/home/hao/Research/sebm/sebm/supervised_clf.py)",
     "output_type": "error",
     "traceback": [
      "\u001b[0;31m---------------------------------------------------------------------------\u001b[0m",
      "\u001b[0;31mImportError\u001b[0m                               Traceback (most recent call last)",
      "\u001b[0;32m<ipython-input-1-ab0bb23c4d84>\u001b[0m in \u001b[0;36m<module>\u001b[0;34m\u001b[0m\n\u001b[1;32m      1\u001b[0m \u001b[0mget_ipython\u001b[0m\u001b[0;34m(\u001b[0m\u001b[0;34m)\u001b[0m\u001b[0;34m.\u001b[0m\u001b[0mrun_line_magic\u001b[0m\u001b[0;34m(\u001b[0m\u001b[0;34m'matplotlib'\u001b[0m\u001b[0;34m,\u001b[0m \u001b[0;34m'inline'\u001b[0m\u001b[0;34m)\u001b[0m\u001b[0;34m\u001b[0m\u001b[0;34m\u001b[0m\u001b[0m\n\u001b[1;32m      2\u001b[0m \u001b[0;32mimport\u001b[0m \u001b[0mtorch\u001b[0m\u001b[0;34m\u001b[0m\u001b[0;34m\u001b[0m\u001b[0m\n\u001b[0;32m----> 3\u001b[0;31m \u001b[0;32mfrom\u001b[0m \u001b[0msebm\u001b[0m\u001b[0;34m.\u001b[0m\u001b[0msupervised_clf\u001b[0m \u001b[0;32mimport\u001b[0m \u001b[0minit_clf\u001b[0m\u001b[0;34m\u001b[0m\u001b[0;34m\u001b[0m\u001b[0m\n\u001b[0m\u001b[1;32m      4\u001b[0m \u001b[0mdataset\u001b[0m \u001b[0;34m=\u001b[0m  \u001b[0;34m'mnist'\u001b[0m \u001b[0;31m# 'svhn' # 'cifar10' # 'mnist' #  'flowers102' #\u001b[0m\u001b[0;34m\u001b[0m\u001b[0;34m\u001b[0m\u001b[0m\n\u001b[1;32m      5\u001b[0m \u001b[0;32mif\u001b[0m \u001b[0mdataset\u001b[0m \u001b[0;34m==\u001b[0m \u001b[0;34m'mnist'\u001b[0m \u001b[0;32mor\u001b[0m \u001b[0mdataset\u001b[0m \u001b[0;34m==\u001b[0m\u001b[0;34m'fashionmnist'\u001b[0m\u001b[0;34m:\u001b[0m\u001b[0;34m\u001b[0m\u001b[0;34m\u001b[0m\u001b[0m\n",
      "\u001b[0;31mImportError\u001b[0m: cannot import name 'init_clf' from 'sebm.supervised_clf' (/home/hao/Research/sebm/sebm/supervised_clf.py)"
     ]
    }
   ],
   "source": [
    "%matplotlib inline\n",
    "import torch\n",
    "from sebm.supervised_clf import init_clf\n",
    "dataset =  'mnist' # 'svhn' # 'cifar10' # 'mnist' #  'flowers102' #\n",
    "if dataset == 'mnist' or dataset =='fashionmnist':\n",
    "    input_channels, im_height, im_width = 1, 28, 28\n",
    "else:\n",
    "    input_channels, im_height, im_width = 3, 32, 32\n",
    "device = torch.device('cuda:0')\n",
    "arch =  'simplenet' # 'mlp' # \n",
    "seed = 1\n",
    "lr = 1e-4\n",
    "heldon = -1\n",
    "channels, kernels, strides, paddings =[64,64,32,32], [3,4,4,4], [1,2,2,2], [1,1,1,1]\n",
    "hidden_dim, latent_dim = [128], 10\n",
    "activation = 'ReLU'\n",
    "data_dir = '../../../sebm_data/'\n",
    "load_version = 'clf-out=%s-d=%s-seed=%d-lr=%s-arch=%s' % (heldon, dataset, seed, lr, arch)\n",
    "\n",
    "if arch == 'simplenet':\n",
    "    clf = init_clf(arch=arch,\n",
    "                    im_height=im_height, \n",
    "                    im_width=im_width, \n",
    "                    input_channels=input_channels, \n",
    "                    channels=channels, \n",
    "                    kernels=kernels, \n",
    "                    strides=strides, \n",
    "                    paddings=paddings, \n",
    "                    hidden_dim=hidden_dim,\n",
    "                    latent_dim=latent_dim,\n",
    "                    activation=activation)\n",
    "else:\n",
    "    raise NotImplementError\n",
    "\n",
    "clf = clf.cuda().to(device)\n",
    "print('Loading trained weights..')\n",
    "clf.load_state_dict(torch.load('../weights/cp-%s' % load_version)['clf_state_dict'])"
   ]
  },
  {
   "cell_type": "code",
   "execution_count": 11,
   "metadata": {},
   "outputs": [
    {
     "data": {
      "text/plain": [
       "tensor(2)"
      ]
     },
     "execution_count": 11,
     "metadata": {},
     "output_type": "execute_result"
    }
   ],
   "source": [
    "torch.Tensor([0,0, 1,0,0]).argmax()"
   ]
  },
  {
   "cell_type": "code",
   "execution_count": 8,
   "metadata": {},
   "outputs": [
    {
     "name": "stdout",
     "output_type": "stream",
     "text": [
      "Computing the test accuracy..\n",
      "Using downloaded and verified file: ../../../sebm_data/SVHN/test_32x32.mat\n",
      "Dataset=svhn, Test Accuracy=0.9228\n"
     ]
    }
   ],
   "source": [
    "from sebm.eval import Evaluator_CLF\n",
    "evaluator = Evaluator_CLF(clf, device, dataset, data_dir)\n",
    "evaluator.test_accuracy()"
   ]
  },
  {
   "cell_type": "code",
   "execution_count": 11,
   "metadata": {},
   "outputs": [
    {
     "data": {
      "text/plain": [
       "(60000,)"
      ]
     },
     "execution_count": 11,
     "metadata": {},
     "output_type": "execute_result"
    }
   ],
   "source": [
    "y.shape"
   ]
  },
  {
   "cell_type": "code",
   "execution_count": 31,
   "metadata": {},
   "outputs": [],
   "source": [
    "from collections import defaultdict\n",
    "dataset = 'cifar10'\n",
    "d = defaultdict(list)\n",
    "for shot in [1, 10, 100, -1]:\n",
    "    for seed in range(1, 6, 1):\n",
    "        fin = open('../results/log-semi_clf-data=%s-shots=%d-seed=%d-lr=0.0001.txt' % (dataset, shot, seed), 'r')\n",
    "        for line in fin.readlines():\n",
    "            line = line.strip().split(', ')\n",
    "            if line[0] == 'Epoch=100':\n",
    "#                 print(float(line[-1][6:]))\n",
    "                d[shot].append(float(line[-1][7:]))\n",
    "        fin.close"
   ]
  },
  {
   "cell_type": "code",
   "execution_count": 33,
   "metadata": {},
   "outputs": [
    {
     "data": {
      "text/plain": [
       "defaultdict(list,\n",
       "            {1: [0.1953, 0.1451, 0.2054, 0.1086, 0.1673],\n",
       "             10: [0.2722, 0.2036, 0.2602, 0.2225, 0.2365],\n",
       "             100: [0.3674, 0.398, 0.3962, 0.3955, 0.3968],\n",
       "             -1: [0.7033, 0.713, 0.7032, 0.7087, 0.7251]})"
      ]
     },
     "execution_count": 33,
     "metadata": {},
     "output_type": "execute_result"
    }
   ],
   "source": [
    "d"
   ]
  },
  {
   "cell_type": "code",
   "execution_count": 32,
   "metadata": {},
   "outputs": [
    {
     "name": "stdout",
     "output_type": "stream",
     "text": [
      "shot=%d, accu=%.4f (1, 0.16434)\n",
      "shot=%d, accu=%.4f (10, 0.23900000000000002)\n",
      "shot=%d, accu=%.4f (100, 0.39078)\n",
      "shot=%d, accu=%.4f (-1, 0.7106600000000001)\n"
     ]
    }
   ],
   "source": [
    "import numpy as np\n",
    "for key in d.keys():\n",
    "    print('shot=%d, accu=%.4f', (key, np.array(d[key]).mean()))"
   ]
  },
  {
   "cell_type": "code",
   "execution_count": 13,
   "metadata": {},
   "outputs": [
    {
     "ename": "UnsupportedOperation",
     "evalue": "can't do nonzero end-relative seeks",
     "output_type": "error",
     "traceback": [
      "\u001b[0;31m---------------------------------------------------------------------------\u001b[0m",
      "\u001b[0;31mUnsupportedOperation\u001b[0m                      Traceback (most recent call last)",
      "\u001b[0;32m<ipython-input-13-e311b0d65d4c>\u001b[0m in \u001b[0;36m<module>\u001b[0;34m\u001b[0m\n\u001b[1;32m      1\u001b[0m \u001b[0mshot\u001b[0m\u001b[0;34m,\u001b[0m \u001b[0mseed\u001b[0m\u001b[0;34m,\u001b[0m \u001b[0mdataset\u001b[0m \u001b[0;34m=\u001b[0m \u001b[0;36m1\u001b[0m\u001b[0;34m,\u001b[0m \u001b[0;36m1\u001b[0m\u001b[0;34m,\u001b[0m \u001b[0;34m'mnist'\u001b[0m\u001b[0;34m\u001b[0m\u001b[0;34m\u001b[0m\u001b[0m\n\u001b[1;32m      2\u001b[0m \u001b[0mfin\u001b[0m \u001b[0;34m=\u001b[0m \u001b[0mopen\u001b[0m\u001b[0;34m(\u001b[0m\u001b[0;34m'../results/log-semi_clf-data=%s-shots=%d-seed=%d-lr=0.0001.txt'\u001b[0m \u001b[0;34m%\u001b[0m \u001b[0;34m(\u001b[0m\u001b[0mdataset\u001b[0m\u001b[0;34m,\u001b[0m \u001b[0mshot\u001b[0m\u001b[0;34m,\u001b[0m \u001b[0mseed\u001b[0m\u001b[0;34m)\u001b[0m\u001b[0;34m,\u001b[0m \u001b[0;34m'r'\u001b[0m\u001b[0;34m)\u001b[0m\u001b[0;34m\u001b[0m\u001b[0;34m\u001b[0m\u001b[0m\n\u001b[0;32m----> 3\u001b[0;31m \u001b[0mfin\u001b[0m\u001b[0;34m.\u001b[0m\u001b[0mseek\u001b[0m\u001b[0;34m(\u001b[0m\u001b[0;36m2\u001b[0m\u001b[0;34m,\u001b[0m \u001b[0;36m2\u001b[0m\u001b[0;34m)\u001b[0m\u001b[0;34m\u001b[0m\u001b[0;34m\u001b[0m\u001b[0m\n\u001b[0m\u001b[1;32m      4\u001b[0m \u001b[0mline\u001b[0m \u001b[0;34m=\u001b[0m \u001b[0mfin\u001b[0m\u001b[0;34m.\u001b[0m\u001b[0mreadline\u001b[0m\u001b[0;34m(\u001b[0m\u001b[0;34m)\u001b[0m\u001b[0;34m\u001b[0m\u001b[0;34m\u001b[0m\u001b[0m\n\u001b[1;32m      5\u001b[0m \u001b[0mline\u001b[0m \u001b[0;34m=\u001b[0m \u001b[0mline\u001b[0m\u001b[0;34m.\u001b[0m\u001b[0mstrip\u001b[0m\u001b[0;34m(\u001b[0m\u001b[0;34m)\u001b[0m\u001b[0;34m\u001b[0m\u001b[0;34m\u001b[0m\u001b[0m\n",
      "\u001b[0;31mUnsupportedOperation\u001b[0m: can't do nonzero end-relative seeks"
     ]
    }
   ],
   "source": [
    "shot, seed, dataset = 1, 1, 'mnist'\n",
    "fin = open('../results/log-semi_clf-data=%s-shots=%d-seed=%d-lr=0.0001.txt' % (dataset, shot, seed), 'r')\n",
    "fin.seek(2, 2)\n",
    "line = fin.readline()\n",
    "line = line.strip()\n",
    "print(line)\n",
    "fin.close"
   ]
  },
  {
   "cell_type": "code",
   "execution_count": null,
   "metadata": {},
   "outputs": [],
   "source": []
  }
 ],
 "metadata": {
  "kernelspec": {
   "display_name": "Python 3",
   "language": "python",
   "name": "python3"
  },
  "language_info": {
   "codemirror_mode": {
    "name": "ipython",
    "version": 3
   },
   "file_extension": ".py",
   "mimetype": "text/x-python",
   "name": "python",
   "nbconvert_exporter": "python",
   "pygments_lexer": "ipython3",
   "version": "3.7.3"
  }
 },
 "nbformat": 4,
 "nbformat_minor": 4
}
