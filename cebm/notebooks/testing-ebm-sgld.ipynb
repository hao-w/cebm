{
 "cells": [
  {
   "cell_type": "code",
   "execution_count": 1,
   "metadata": {},
   "outputs": [
    {
     "name": "stdout",
     "output_type": "stream",
     "text": [
      "Loading trained weights..\n"
     ]
    }
   ],
   "source": [
    "%matplotlib inline\n",
    "import torch\n",
    "from sebm.sgld import SGLD_sampler\n",
    "from sebm.models import EBM\n",
    "dataset =  'svhn' # 'svhn' # 'cifar10' # 'mnist' #  'flowers102' #\n",
    "if dataset == 'mnist' or dataset =='fashionmnist':\n",
    "    input_channels, im_height, im_width = 1, 28, 28\n",
    "else:\n",
    "    input_channels, im_height, im_width = 3, 32, 32\n",
    "device = torch.device('cuda:1')\n",
    "arch =  'simplenet'\n",
    "seed = 123\n",
    "# lr, reg_alpha = 5e-5, 5e-3\n",
    "lr, reg_alpha = 1e-4, 1e-1\n",
    "# lr, reg_alpha = 5e-5, 5e-3\n",
    "optimize_priors = False\n",
    "if dataset == 'cifar10' or dataset == 'svhn':\n",
    "    channels, kernels, strides, paddings =[64,128,256,512], [3,4,4,4], [1,2,2,2], [1,1,1,1]\n",
    "    hidden_dim, latent_dim, activation = [1024,128], 1, 'Swish'\n",
    "elif dataset == 'mnist' or dataset == 'fashionmnist':\n",
    "    channels, kernels, strides, paddings =[64,64,32,32], [3,4,4,4], [1,2,2,2], [1,1,1,1]\n",
    "    hidden_dim, latent_dim, activation = [128,128], 1, 'Swish'\n",
    "else:\n",
    "    raise NotImplementError\n",
    "data_noise_std = 3e-2\n",
    "sgld_noise_std, sgld_lr, sgld_num_steps = 7.5e-3, 2.0, 60\n",
    "buffer_init, buffer_dup_allowed = True, True\n",
    "data_dir = '../../../sebm_data/'\n",
    "load_version = 'igebm-d=%s-seed=%d-lr=%s-zd=%d-d_ns=%s-sgld-ns=%s-lr=%s-steps=%s-reg=%s-act=%s-arch=%s' % (dataset, seed, lr, latent_dim, data_noise_std, sgld_noise_std, sgld_lr, sgld_num_steps,  reg_alpha, activation, arch)\n",
    "\n",
    "ebm = EBM(arch=arch,\n",
    "                im_height=im_height, \n",
    "                im_width=im_width, \n",
    "                input_channels=input_channels, \n",
    "                channels=channels, \n",
    "                kernels=kernels, \n",
    "                strides=strides, \n",
    "                paddings=paddings, \n",
    "                hidden_dim=hidden_dim,\n",
    "                latent_dim=latent_dim,\n",
    "                activation=activation)\n",
    "ebm = ebm.cuda().to(device)\n",
    "print('Loading trained weights..')\n",
    "# ebm.load_state_dict(torch.load('../weights/final/cp-%s' % load_version)['model_state_dict'])"
   ]
  },
  {
   "cell_type": "code",
   "execution_count": 2,
   "metadata": {},
   "outputs": [
    {
     "data": {
      "text/plain": [
       "EBM(\n",
       "  (ebm_net): SimpleNet(\n",
       "    (cnn_block): Sequential(\n",
       "      (0): Conv2d(3, 64, kernel_size=(3, 3), stride=(1, 1), padding=(1, 1))\n",
       "      (1): Swish()\n",
       "      (2): Conv2d(64, 128, kernel_size=(4, 4), stride=(2, 2), padding=(1, 1))\n",
       "      (3): Swish()\n",
       "      (4): Conv2d(128, 256, kernel_size=(4, 4), stride=(2, 2), padding=(1, 1))\n",
       "      (5): Swish()\n",
       "      (6): Conv2d(256, 512, kernel_size=(4, 4), stride=(2, 2), padding=(1, 1))\n",
       "      (7): Swish()\n",
       "    )\n",
       "    (flatten): Flatten()\n",
       "    (mlp_block): Sequential(\n",
       "      (0): Linear(in_features=8192, out_features=1024, bias=True)\n",
       "      (1): Swish()\n",
       "      (2): Linear(in_features=1024, out_features=128, bias=True)\n",
       "      (3): Swish()\n",
       "      (4): Linear(in_features=128, out_features=1, bias=True)\n",
       "    )\n",
       "  )\n",
       ")"
      ]
     },
     "execution_count": 2,
     "metadata": {},
     "output_type": "execute_result"
    }
   ],
   "source": [
    "ebm"
   ]
  },
  {
   "cell_type": "code",
   "execution_count": 2,
   "metadata": {},
   "outputs": [],
   "source": [
    "from sebm.eval import *\n",
    "evaluator = Evaluator_EBM(ebm, device, dataset, data_dir, data_noise_std=1e-2)"
   ]
  },
  {
   "cell_type": "code",
   "execution_count": 14,
   "metadata": {},
   "outputs": [],
   "source": [
    "# fewshots(model_name='ebm', evaluator=evaluator)"
   ]
  },
  {
   "cell_type": "code",
   "execution_count": null,
   "metadata": {},
   "outputs": [],
   "source": [
    "similarity_z_space(evaluator, \n",
    "                       train_batch_size=2000, \n",
    "                       test_batch_size=2000,\n",
    "                       model_name='igebm')"
   ]
  },
  {
   "cell_type": "code",
   "execution_count": null,
   "metadata": {},
   "outputs": [],
   "source": [
    "%debug"
   ]
  },
  {
   "cell_type": "code",
   "execution_count": null,
   "metadata": {},
   "outputs": [],
   "source": [
    "# paired = torch.cat((ys_test.unsqueeze(-1), pred_ys_test), -1)\n",
    "# torch.save(paired, 'confusion_matrix_labels_igebm_z_%s.pt' % dataset)"
   ]
  },
  {
   "cell_type": "code",
   "execution_count": null,
   "metadata": {},
   "outputs": [],
   "source": [
    "# scores = evaluator.oodauc(dataset_ood='texture', score='gradient')\n",
    "# scores"
   ]
  },
  {
   "cell_type": "code",
   "execution_count": null,
   "metadata": {},
   "outputs": [],
   "source": [
    "images_ebm = evaluator.uncond_sampling(batch_size=100, \n",
    "                                          sgld_steps=1000,\n",
    "                                          sgld_lr=2.0,\n",
    "                                          sgld_noise_std=1e-3,\n",
    "                                          grad_clipping=False,\n",
    "                                          init_samples=None,\n",
    "                                          logging_interval=None)\n",
    "evaluator.plot_final_samples(images_ebm, fs=5)"
   ]
  },
  {
   "cell_type": "code",
   "execution_count": null,
   "metadata": {},
   "outputs": [],
   "source": [
    "evaluator.plot_oods(dataset_ood='cifar10', score='gradient',train=False, fs=4, save=False)"
   ]
  },
  {
   "cell_type": "code",
   "execution_count": null,
   "metadata": {},
   "outputs": [],
   "source": []
  }
 ],
 "metadata": {
  "kernelspec": {
   "display_name": "Python 3",
   "language": "python",
   "name": "python3"
  },
  "language_info": {
   "codemirror_mode": {
    "name": "ipython",
    "version": 3
   },
   "file_extension": ".py",
   "mimetype": "text/x-python",
   "name": "python",
   "nbconvert_exporter": "python",
   "pygments_lexer": "ipython3",
   "version": "3.7.3"
  }
 },
 "nbformat": 4,
 "nbformat_minor": 4
}
