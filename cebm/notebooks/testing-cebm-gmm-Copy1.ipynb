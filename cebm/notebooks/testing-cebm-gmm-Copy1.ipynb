{
 "cells": [
  {
   "cell_type": "code",
   "execution_count": 6,
   "metadata": {},
   "outputs": [
    {
     "name": "stdout",
     "output_type": "stream",
     "text": [
      "Loading trained weights..\n"
     ]
    },
    {
     "data": {
      "text/plain": [
       "<All keys matched successfully>"
      ]
     },
     "execution_count": 6,
     "metadata": {},
     "output_type": "execute_result"
    }
   ],
   "source": [
    "%matplotlib inline\n",
    "import torch\n",
    "from sebm.sgld import SGLD_sampler\n",
    "from sebm.models import CEBM_GMM_2ss\n",
    "dataset =  'svhn' # 'svhn' # 'cifar10' # 'mnist' #  'flowers102' #\n",
    "if dataset == 'mnist' or dataset =='fashionmnist':\n",
    "    input_channels, im_height, im_width = 1, 28, 28\n",
    "else:\n",
    "    input_channels, im_height, im_width = 3, 32, 32\n",
    "device = torch.device('cuda:0')\n",
    "arch =  'simplenet2' \n",
    "ss = 2\n",
    "seed =  3\n",
    "# lr, reg_alpha = 1e-4, 1e-1 # \n",
    "lr ,reg_alpha = 5e-5, 1e-1\n",
    "\n",
    "optimize_priors = True\n",
    "num_clusters = 10\n",
    "if dataset == 'cifar10' or dataset == 'svhn':\n",
    "    channels, kernels, strides, paddings =[64,128,256,512], [3,4,4,4], [1,2,2,2], [1,1,1,1]\n",
    "    hidden_dim, latent_dim, activation = [1024], 128, 'Swish'\n",
    "elif dataset == 'mnist' or dataset == 'fashionmnist':\n",
    "    \n",
    "    channels, kernels, strides, paddings =[64,64,32,32], [3,4,4,4], [1,2,2,2], [1,1,1,1]\n",
    "    hidden_dim, latent_dim, activation = [128], 128, 'Swish'\n",
    "else:\n",
    "    raise NotImplementError\n",
    "\n",
    "data_noise_std = 3e-2\n",
    "sgld_noise_std, sgld_lr, sgld_num_steps = 7.5e-3, 2.0, 60\n",
    "buffer_init, buffer_dup_allowed = True, True\n",
    "data_dir = '../../../sebm_data/'\n",
    "load_version = 'cebm_gmm_k=%d-d=%s-seed=%d-lr=%s-zd=%d-d_ns=%s-sgld-ns=%s-lr=%s-steps=%s-reg=%s-act=%s-arch=%s' % (num_clusters, dataset, seed, lr, latent_dim, data_noise_std, sgld_noise_std, sgld_lr, sgld_num_steps,  reg_alpha, activation, arch)\n",
    "if arch == 'simplenet2':\n",
    "    ebm = CEBM_GMM_2ss(K=num_clusters,\n",
    "                    arch=arch,\n",
    "                    optimize_priors=optimize_priors,\n",
    "                    device=device,\n",
    "                    im_height=im_height, \n",
    "                    im_width=im_width, \n",
    "                    input_channels=input_channels, \n",
    "                    channels=channels, \n",
    "                    kernels=kernels, \n",
    "                    strides=strides, \n",
    "                    paddings=paddings, \n",
    "                    hidden_dim=hidden_dim,\n",
    "                    latent_dim=latent_dim,\n",
    "                    activation=activation)\n",
    "else:\n",
    "    raise NotImplementError\n",
    "ebm = ebm.cuda().to(device)\n",
    "print('Loading trained weights..')\n",
    "weights = torch.load('../weights/weights/1012/cp-%s' % load_version)\n",
    "ebm.load_state_dict(weights['model_state_dict'])\n",
    "# if not optimize_priors:\n",
    "#     ebm.prior_mu = weights['prior_mu'].to(device)\n",
    "#     ebm.prior_log_sigma = weights['prior_log_sigma'].to(device)"
   ]
  },
  {
   "cell_type": "code",
   "execution_count": 7,
   "metadata": {},
   "outputs": [],
   "source": [
    "from sebm.eval import *\n",
    "evaluator = Evaluator_EBM_GMM(ebm, device, dataset, data_dir, data_noise_std=1e-2)"
   ]
  },
  {
   "cell_type": "code",
   "execution_count": 8,
   "metadata": {},
   "outputs": [
    {
     "name": "stderr",
     "output_type": "stream",
     "text": [
      "  0%|          | 0/1 [00:00<?, ?it/s]"
     ]
    },
    {
     "name": "stdout",
     "output_type": "stream",
     "text": [
      "Using downloaded and verified file: ../../../sebm_data/SVHN/test_32x32.mat\n",
      "Using downloaded and verified file: ../../../sebm_data/SVHN/test_32x32.mat\n",
      "Using downloaded and verified file: ../../../sebm_data/SVHN/test_32x32.mat\n",
      "Using downloaded and verified file: ../../../sebm_data/SVHN/test_32x32.mat\n",
      "Using downloaded and verified file: ../../../sebm_data/SVHN/test_32x32.mat\n",
      "Using downloaded and verified file: ../../../sebm_data/SVHN/test_32x32.mat\n",
      "Using downloaded and verified file: ../../../sebm_data/SVHN/test_32x32.mat\n",
      "Using downloaded and verified file: ../../../sebm_data/SVHN/test_32x32.mat\n",
      "Using downloaded and verified file: ../../../sebm_data/SVHN/test_32x32.mat\n",
      "Using downloaded and verified file: ../../../sebm_data/SVHN/test_32x32.mat\n"
     ]
    },
    {
     "name": "stderr",
     "output_type": "stream",
     "text": [
      "100%|██████████| 1/1 [01:25<00:00, 85.53s/it]\n"
     ]
    }
   ],
   "source": [
    "fewshots(model_name='cebm_gmm', evaluator=evaluator, list_num_shots=[1])"
   ]
  },
  {
   "cell_type": "code",
   "execution_count": null,
   "metadata": {},
   "outputs": [],
   "source": [
    "metrics =  ['pixel','vae_z', 'cebm_z', 'igebm_z']\n",
    "datasets = ['mnist', 'cifar10']\n",
    "import torch\n",
    "import numpy as np\n",
    "import matplotlib.pyplot as plt\n",
    "for d in datasets:\n",
    "    for m in metrics:\n",
    "        plot_confusion_matrix(d, m)"
   ]
  },
  {
   "cell_type": "code",
   "execution_count": null,
   "metadata": {},
   "outputs": [],
   "source": [
    "def plot_confusion_matrix(dataset, metric):\n",
    "    l = torch.load('confusion/logging/confusion_matrix_labels_%s_%s.pt' % (metric, dataset)).long()\n",
    "    cm = torch.zeros((10, 10))\n",
    "    for i in range(len(l)):\n",
    "        cm[l[i, 0], l[i, 1]] += 1\n",
    "    for j in range(len(cm)):\n",
    "        cm[j] /= cm[j].sum()\n",
    "    fig = plt.figure(figsize=(10, 10))\n",
    "    ax = fig.add_subplot(111)\n",
    "    im = ax.imshow(cm, cmap='inferno', vmax=1.0, vmin=0.0)\n",
    "    if metric == 'pixel':\n",
    "        model = 'Pixel'\n",
    "    elif metric == 'vae_z':\n",
    "        model = 'VAE'\n",
    "    elif metric == 'igebm_z':\n",
    "        model = 'IGEBM'\n",
    "    elif metric == 'cebm_z':\n",
    "        model = 'CEBM'\n",
    "    else:\n",
    "        raise NotImplementError\n",
    "    ax.set_title('%s' % model, fontsize=20)\n",
    "#     plt.colorbar(im)\n",
    "    ticks = ['0', '1', '2', '3', '4', '5', '6', '7', '8', '9']\n",
    "    ax.set_xticks(np.arange(len(ticks)))\n",
    "    ax.set_yticks(np.arange(len(ticks)))\n",
    "    ax.set_xticklabels(ticks)\n",
    "    ax.set_yticklabels(ticks)\n",
    "    ax.set_ylabel('True Class Labels', fontsize=20)\n",
    "    ax.set_xlabel('Predicted Class Labels', fontsize=20)\n",
    "    for i in range(len(ticks)):\n",
    "        for j in range(len(ticks)):\n",
    "            text = ax.text(j, i, round(cm[i, j].item(), 2),\n",
    "                           ha=\"center\", va=\"center\", color=(\"k\" if i == j else 'w'))\n",
    "    plt.savefig('confusion/figures/cm_%s_%s.png' % (dataset, metric))"
   ]
  },
  {
   "cell_type": "code",
   "execution_count": null,
   "metadata": {},
   "outputs": [],
   "source": [
    "datasets = ['svhn', 'texture', 'constant_rgb']\n",
    "scores = ['energy', 'gradient']\n",
    "for d in datasets:\n",
    "    for s in scores:\n",
    "        auroc = evaluator.oodauc(dataset_ood=d, score=s)\n",
    "        print('dataset=%s, score=%s, auroc=%.3f' % (d,s,auroc))"
   ]
  },
  {
   "cell_type": "code",
   "execution_count": null,
   "metadata": {},
   "outputs": [],
   "source": [
    "# logging_interval = 200 # None otherwise\n",
    "# test_batch_size = 10\n",
    "# init_samples, labels = draw_one_batch(1, dataset, data_dir, train=False, normalize=True, flatten=False)\n",
    "\n",
    "# images_ebm = evaluator.uncond_sampling_ll(sample_size=3,\n",
    "#                                           batch_size=test_batch_size, \n",
    "#                                           sgld_steps=2000,\n",
    "#                                           sgld_lr=2.0,\n",
    "#                                           sgld_noise_std=1e-3,\n",
    "#                                           init_images=init_samples,\n",
    "#                                           grad_clipping=False,\n",
    "#                                           logging_interval=None)\n",
    "# nearestneighbours = evaluator.nn_latents(images_ebm)\n",
    "# plot_evolving_samples(images_ebm, nearestneighbours, fs=8, save_name=None)"
   ]
  },
  {
   "cell_type": "code",
   "execution_count": null,
   "metadata": {},
   "outputs": [],
   "source": [
    "# evaluator.plot_all_samples(list_images=images_ebm, fs=1.0)"
   ]
  },
  {
   "cell_type": "code",
   "execution_count": null,
   "metadata": {},
   "outputs": [],
   "source": [
    "images_ebm = evaluator.uncond_sampling(batch_size=100, \n",
    "                                          sgld_steps=1000,\n",
    "                                          sgld_lr=2.0,\n",
    "                                          sgld_noise_std=1e-3,\n",
    "                                          grad_clipping=False,\n",
    "                                          init_samples=None,\n",
    "                                          logging_interval=None)\n",
    "evaluator.plot_final_samples(images_ebm, fs=5, save=False)"
   ]
  },
  {
   "cell_type": "code",
   "execution_count": null,
   "metadata": {},
   "outputs": [],
   "source": [
    "# evaluator.plot_all_samples(images_ebm, fs=6, save=True)"
   ]
  },
  {
   "cell_type": "code",
   "execution_count": null,
   "metadata": {},
   "outputs": [],
   "source": [
    "evaluator.plot_oods(dataset_ood='cifar10', score='gradient', train=False, fs=4, save=False)"
   ]
  },
  {
   "cell_type": "code",
   "execution_count": null,
   "metadata": {},
   "outputs": [],
   "source": [
    "# train_logistic_classifier(evaluator)"
   ]
  },
  {
   "cell_type": "code",
   "execution_count": null,
   "metadata": {},
   "outputs": [],
   "source": [
    "zs, ys = evaluator.compute_tsne()\n",
    "evaluator.plot_tsne(zs, ys, save=True)"
   ]
  },
  {
   "cell_type": "code",
   "execution_count": null,
   "metadata": {},
   "outputs": [],
   "source": []
  },
  {
   "cell_type": "code",
   "execution_count": null,
   "metadata": {},
   "outputs": [],
   "source": []
  }
 ],
 "metadata": {
  "kernelspec": {
   "display_name": "Python 3",
   "language": "python",
   "name": "python3"
  },
  "language_info": {
   "codemirror_mode": {
    "name": "ipython",
    "version": 3
   },
   "file_extension": ".py",
   "mimetype": "text/x-python",
   "name": "python",
   "nbconvert_exporter": "python",
   "pygments_lexer": "ipython3",
   "version": "3.7.3"
  }
 },
 "nbformat": 4,
 "nbformat_minor": 4
}
