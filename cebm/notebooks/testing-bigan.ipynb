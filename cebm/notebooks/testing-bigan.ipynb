{
 "cells": [
  {
   "cell_type": "code",
   "execution_count": 1,
   "metadata": {},
   "outputs": [],
   "source": [
    "%matplotlib inline\n",
    "import torch\n",
    "from sebm.models import Generator, Discriminator_BIGAN, Encoder_BIGAN, Generator_GMM\n",
    "dataset =  'cifar10' # 'svhn' # 'cifar10' # 'mnist' #  'flowers102' #\n",
    "if dataset == 'mnist' or dataset =='fashionmnist':\n",
    "    input_channels, im_height, im_width = 1, 28, 28\n",
    "else:\n",
    "    input_channels, im_height, im_width = 3, 32, 32\n",
    "device = torch.device('cuda:1')\n",
    "arch =  'simplenet'\n",
    "reparameterized = True\n",
    "seed = 1\n",
    "lr = 2e-4\n",
    "if dataset == 'cifar10' or dataset == 'svhn':\n",
    "    disc_channels, disc_kernels, disc_strides, disc_paddings = [64,128,256,512], [3,4,4,4], [1,2,2,2], [1,1,1,1]\n",
    "    gen_channels, gen_kernels, gen_strides, gen_paddings = [512,256,128,64,3], [4,4,4,4,4], [2,2,2,2,2], [1,1,1,1,1]\n",
    "    enc_channels, enc_kernels, enc_strides, enc_paddings = [64,128,256,512],[3,4,4,4], [1,2,2,2], [1,1,1,1]\n",
    "    cnn_output_dim = 8192\n",
    "    hidden_dim, latent_dim = [1024], 128\n",
    "    disc_activation, gen_activation = 'LeakyReLU', 'ReLU'\n",
    "    leak, dropout = 0.2, 0.2\n",
    "    \n",
    "elif dataset == 'mnist' or dataset == 'fashionmnist':\n",
    "    disc_channels, disc_kernels, disc_strides, disc_paddings = [64,64,32,32], [3,4,4,4], [1,2,2,2], [1,1,1,1]\n",
    "    gen_channels, gen_kernels, gen_strides, gen_paddings = [64,64,32,32,1], [4,4,3,4,4], [1,2,2,2,2], [1,1,1,1,1] \n",
    "    enc_channels, enc_kernels, enc_strides, enc_paddings = [64,64,32,32], [3,4,4,4], [1,2,2,2], [1,1,1,1]\n",
    "    cnn_output_dim = 288\n",
    "    hidden_dim, latent_dim = [128], 128\n",
    "    disc_activation, gen_activation = 'LeakyReLU', 'ReLU'\n",
    "    leak, dropout = 0.2, 0.2\n",
    "else:\n",
    "    raise NotImplementError\n",
    "data_dir = '../../../sebm_data/'\n",
    "load_version = 'bigan-d=%s-seed=%d-lr=%s-zd=%d-disc_act=%s-gen_act=%s-arch=%s' % (dataset, seed, lr, latent_dim, disc_activation, gen_activation, arch)\n",
    "arch= 'simplenet'\n",
    "enc = Encoder_BIGAN(arch=arch,\n",
    "                    reparameterized=reparameterized,\n",
    "                    im_height=im_height, \n",
    "                    im_width=im_width, \n",
    "                    input_channels=input_channels, \n",
    "                    channels=enc_channels, \n",
    "                    kernels=enc_kernels, \n",
    "                    strides=enc_strides, \n",
    "                    paddings=enc_paddings, \n",
    "                    hidden_dim=hidden_dim,\n",
    "                    latent_dim=latent_dim,\n",
    "                    activation=disc_activation,\n",
    "                    leak=leak,\n",
    "                    last_act=False,\n",
    "                    batchnorm=True)  \n",
    "\n",
    "gen = Generator(arch=arch,\n",
    "                device=device,\n",
    "                im_height=1, \n",
    "                im_width=1, \n",
    "                input_channels=latent_dim, \n",
    "                channels=gen_channels, \n",
    "                kernels=gen_kernels, \n",
    "                strides=gen_strides, \n",
    "                paddings=gen_paddings, \n",
    "                activation=gen_activation,\n",
    "                leak=leak,\n",
    "                batchnorm=True)\n",
    "\n",
    "disc = Discriminator_BIGAN(arch=arch,\n",
    "                           latent_dim=latent_dim,\n",
    "                           cnn_output_dim=cnn_output_dim,\n",
    "                           hidden_dim=hidden_dim,\n",
    "                            im_height=im_height, \n",
    "                            im_width=im_width, \n",
    "                            input_channels=input_channels, \n",
    "                            channels=disc_channels, \n",
    "                            kernels=disc_kernels, \n",
    "                            strides=disc_strides, \n",
    "                            paddings=disc_paddings, \n",
    "                            activation=disc_activation,\n",
    "                            leak=leak,\n",
    "                            last_act=True,\n",
    "                            batchnorm=True,\n",
    "                            dropout=dropout)   \n",
    "\n",
    "# enc = enc.cuda().to(device)\n",
    "# gen = gen.cuda().to(device)\n",
    "# disc = disc.cuda().to(device)\n",
    "# print('Loading trained weights..')\n",
    "# enc.load_state_dict(torch.load('../weights/cp-%s' % load_version)['enc_state_dict'])\n",
    "# gen.load_state_dict(torch.load('../weights/cp-%s' % load_version)['gen_state_dict'])\n",
    "# disc.load_state_dict(torch.load('../weights/cp-%s' % load_version)['disc_state_dict'])"
   ]
  },
  {
   "cell_type": "code",
   "execution_count": 2,
   "metadata": {},
   "outputs": [
    {
     "data": {
      "text/plain": [
       "Discriminator_BIGAN(\n",
       "  (x_enc_net1): SimpleNet5(\n",
       "    (cnn_block): Sequential(\n",
       "      (0): Conv2d(3, 64, kernel_size=(3, 3), stride=(1, 1), padding=(1, 1))\n",
       "      (1): BatchNorm2d(64, eps=1e-05, momentum=0.1, affine=True, track_running_stats=True)\n",
       "      (2): LeakyReLU(negative_slope=0.2, inplace=True)\n",
       "      (3): Dropout2d(p=0.2, inplace=False)\n",
       "      (4): Conv2d(64, 128, kernel_size=(4, 4), stride=(2, 2), padding=(1, 1))\n",
       "      (5): BatchNorm2d(128, eps=1e-05, momentum=0.1, affine=True, track_running_stats=True)\n",
       "      (6): LeakyReLU(negative_slope=0.2, inplace=True)\n",
       "      (7): Dropout2d(p=0.2, inplace=False)\n",
       "      (8): Conv2d(128, 256, kernel_size=(4, 4), stride=(2, 2), padding=(1, 1))\n",
       "      (9): BatchNorm2d(256, eps=1e-05, momentum=0.1, affine=True, track_running_stats=True)\n",
       "      (10): LeakyReLU(negative_slope=0.2, inplace=True)\n",
       "      (11): Dropout2d(p=0.2, inplace=False)\n",
       "      (12): Conv2d(256, 512, kernel_size=(4, 4), stride=(2, 2), padding=(1, 1))\n",
       "      (13): BatchNorm2d(512, eps=1e-05, momentum=0.1, affine=True, track_running_stats=True)\n",
       "      (14): LeakyReLU(negative_slope=0.2, inplace=True)\n",
       "      (15): Dropout2d(p=0.2, inplace=False)\n",
       "    )\n",
       "  )\n",
       "  (x_enc_net2): Sequential(\n",
       "    (0): Linear(in_features=8192, out_features=1024, bias=True)\n",
       "    (1): LeakyReLU(negative_slope=0.2, inplace=True)\n",
       "  )\n",
       "  (xz_enc_net): Sequential(\n",
       "    (0): Linear(in_features=1152, out_features=128, bias=True)\n",
       "    (1): LeakyReLU(negative_slope=0.2, inplace=True)\n",
       "    (2): Linear(in_features=128, out_features=1, bias=True)\n",
       "  )\n",
       "  (sigmoid): Sigmoid()\n",
       "  (flatten): Flatten()\n",
       ")"
      ]
     },
     "execution_count": 2,
     "metadata": {},
     "output_type": "execute_result"
    }
   ],
   "source": [
    "disc"
   ]
  },
  {
   "cell_type": "code",
   "execution_count": 3,
   "metadata": {},
   "outputs": [
    {
     "data": {
      "text/plain": [
       "Encoder_BIGAN(\n",
       "  (enc_net): SimpleNet2(\n",
       "    (cnn_block): Sequential(\n",
       "      (0): Conv2d(3, 64, kernel_size=(3, 3), stride=(1, 1), padding=(1, 1))\n",
       "      (1): BatchNorm2d(64, eps=1e-05, momentum=0.1, affine=True, track_running_stats=True)\n",
       "      (2): LeakyReLU(negative_slope=0.2, inplace=True)\n",
       "      (3): Conv2d(64, 128, kernel_size=(4, 4), stride=(2, 2), padding=(1, 1))\n",
       "      (4): BatchNorm2d(128, eps=1e-05, momentum=0.1, affine=True, track_running_stats=True)\n",
       "      (5): LeakyReLU(negative_slope=0.2, inplace=True)\n",
       "      (6): Conv2d(128, 256, kernel_size=(4, 4), stride=(2, 2), padding=(1, 1))\n",
       "      (7): BatchNorm2d(256, eps=1e-05, momentum=0.1, affine=True, track_running_stats=True)\n",
       "      (8): LeakyReLU(negative_slope=0.2, inplace=True)\n",
       "      (9): Conv2d(256, 512, kernel_size=(4, 4), stride=(2, 2), padding=(1, 1))\n",
       "      (10): BatchNorm2d(512, eps=1e-05, momentum=0.1, affine=True, track_running_stats=True)\n",
       "      (11): LeakyReLU(negative_slope=0.2, inplace=True)\n",
       "    )\n",
       "    (flatten): Flatten()\n",
       "    (mlp_block1): Sequential(\n",
       "      (0): Linear(in_features=8192, out_features=1024, bias=True)\n",
       "      (1): LeakyReLU(negative_slope=0.2, inplace=True)\n",
       "      (2): Linear(in_features=1024, out_features=128, bias=True)\n",
       "    )\n",
       "    (mlp_block2): Sequential(\n",
       "      (0): Linear(in_features=8192, out_features=1024, bias=True)\n",
       "      (1): LeakyReLU(negative_slope=0.2, inplace=True)\n",
       "      (2): Linear(in_features=1024, out_features=128, bias=True)\n",
       "    )\n",
       "  )\n",
       ")"
      ]
     },
     "execution_count": 3,
     "metadata": {},
     "output_type": "execute_result"
    }
   ],
   "source": [
    "enc"
   ]
  },
  {
   "cell_type": "code",
   "execution_count": null,
   "metadata": {},
   "outputs": [],
   "source": [
    "from sebm.eval import Evaluator_GAN, fewshots\n",
    "evaluator = Evaluator_GAN((disc, gen, enc), device, dataset, data_dir)\n",
    "evaluator.plot_samples(100)"
   ]
  },
  {
   "cell_type": "code",
   "execution_count": null,
   "metadata": {},
   "outputs": [],
   "source": [
    "fewshots(model_name='bigan', evaluator=evaluator, list_num_shots=[-1])"
   ]
  },
  {
   "cell_type": "code",
   "execution_count": null,
   "metadata": {},
   "outputs": [],
   "source": [
    "similarity_z_space(evaluator, \n",
    "                       train_batch_size=2000, \n",
    "                       test_batch_size=2000,\n",
    "                       model_name='igebm')"
   ]
  },
  {
   "cell_type": "code",
   "execution_count": null,
   "metadata": {},
   "outputs": [],
   "source": [
    "from sebm.util import cnn_output_shape\n",
    "cnn_output_shape(h=28,w=28, kernels=[4,4,4,4,4],strides=[1,2,2,2,2], paddings=[1,1,1,1,1])"
   ]
  },
  {
   "cell_type": "code",
   "execution_count": null,
   "metadata": {},
   "outputs": [],
   "source": [
    "# scores = evaluator.oodauc(dataset_ood='texture', score='gradient')\n",
    "# scores"
   ]
  },
  {
   "cell_type": "code",
   "execution_count": null,
   "metadata": {},
   "outputs": [],
   "source": [
    "images_ebm = evaluator.uncond_sampling(batch_size=100, \n",
    "                                          sgld_steps=1000,\n",
    "                                          sgld_lr=2.0,\n",
    "                                          sgld_noise_std=1e-3,\n",
    "                                          grad_clipping=False,\n",
    "                                          init_samples=None,\n",
    "                                          logging_interval=None)\n",
    "evaluator.plot_final_samples(images_ebm, fs=5)"
   ]
  },
  {
   "cell_type": "code",
   "execution_count": null,
   "metadata": {},
   "outputs": [],
   "source": [
    "evaluator.plot_oods(dataset_ood='cifar10', score='gradient',train=False, fs=4, save=False)"
   ]
  },
  {
   "cell_type": "code",
   "execution_count": null,
   "metadata": {},
   "outputs": [],
   "source": []
  }
 ],
 "metadata": {
  "kernelspec": {
   "display_name": "Python 3",
   "language": "python",
   "name": "python3"
  },
  "language_info": {
   "codemirror_mode": {
    "name": "ipython",
    "version": 3
   },
   "file_extension": ".py",
   "mimetype": "text/x-python",
   "name": "python",
   "nbconvert_exporter": "python",
   "pygments_lexer": "ipython3",
   "version": "3.7.3"
  }
 },
 "nbformat": 4,
 "nbformat_minor": 4
}
