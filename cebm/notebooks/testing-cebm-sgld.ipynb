{
 "cells": [
  {
   "cell_type": "code",
   "execution_count": null,
   "metadata": {},
   "outputs": [],
   "source": [
    "%matplotlib inline\n",
    "import torch\n",
    "from sebm.sgld import SGLD_sampler\n",
    "from sebm.cebm_sgld import init_cebm\n",
    "dataset =  'cifar10' # 'svhn' # 'cifar10' # 'mnist' #  'flowers102' #\n",
    "if dataset == 'mnist' or dataset =='fashionmnist':\n",
    "    input_channels, im_height, im_width = 1, 28, 28\n",
    "else:\n",
    "    input_channels, im_height, im_width = 3, 32, 32\n",
    "device = torch.device('cuda:1')\n",
    "arch =  'simplenet2' # 'wresnet' # 'simplenet'\n",
    "ss = 2\n",
    "seed = 123\n",
    "\n",
    "lr, reg_alpha =  1e-4, 1e-1\n",
    "optimize_priors = False\n",
    "if dataset == 'cifar10' or dataset == 'svhn':\n",
    "    channels, kernels, strides, paddings =[64,128,256,512], [3,4,4,4], [1,2,2,2], [1,1,1,1]\n",
    "    latent_dim, activation = 128, 'Swish'\n",
    "    hidden_dim = [1024]\n",
    "    data_noise_std, sgld_noise_std, sgld_lr, sgld_num_steps = 3e-2, 7.5e-3, 2.0, 60\n",
    "    \n",
    "elif dataset == 'mnist' or dataset == 'fashionmnist':\n",
    "    channels, kernels, strides, paddings =[64,64,32,32], [3,4,4,4], [1,2,2,2], [1,1,1,1]\n",
    "    latent_dim, activation = 128, 'Swish'\n",
    "    data_noise_std, sgld_noise_std, sgld_lr, sgld_num_steps =  3e-2, 7.5e-3, 2.0, 60\n",
    "    hidden_dim = [128]\n",
    "else:\n",
    "    raise NotImplementError\n",
    "# leak, batchnorm, dropout = 0.2, False, None\n",
    "\n",
    "# buffer_init, buffer_dup_allowed = True, True\n",
    "data_dir = '../../../sebm_data/'\n",
    "load_version = 'cebm_%sss-out=-1-d=%s-seed=%d-lr=%s-zd=%d-d_ns=%s-sgld-ns=%s-lr=%s-steps=%s-reg=%s-act=%s-arch=%s' % (ss, dataset, seed, lr, latent_dim, data_noise_std, sgld_noise_std, sgld_lr, sgld_num_steps,  reg_alpha, activation, arch)\n",
    "if arch == 'wresnet':\n",
    "    ebm = init_cebm(arch=arch,\n",
    "                    ss=ss,\n",
    "                    optimize_priors=optimize_priors,\n",
    "                    device=device,\n",
    "                    depth=depth,\n",
    "                    width=width,\n",
    "                    hidden_dim=hidden_dim,\n",
    "                    latent_dim=latent_dim,\n",
    "                    act=activation)\n",
    "elif arch == 'simplenet2':\n",
    "    ebm = init_cebm(arch=arch,\n",
    "                    ss=ss,\n",
    "                    latent_dim=latent_dim,\n",
    "                    optimize_priors=optimize_priors,\n",
    "                    device=device,\n",
    "                    im_height=im_height, \n",
    "                    im_width=im_width, \n",
    "                    input_channels=input_channels, \n",
    "                    channels=channels, \n",
    "                    kernels=kernels, \n",
    "                    strides=strides, \n",
    "                    paddings=paddings, \n",
    "                    hidden_dim=hidden_dim,\n",
    "                    activation=activation)\n",
    "elif arch == 'simplenet5':\n",
    "    ebm = init_cebm(arch=arch,\n",
    "                    ss=ss,\n",
    "                    latent_dim=latent_dim,\n",
    "                    optimize_priors=optimize_priors,\n",
    "                    device=device,\n",
    "                    im_height=im_height, \n",
    "                    im_width=im_width, \n",
    "                    input_channels=input_channels, \n",
    "                    channels=channels, \n",
    "                    kernels=kernels, \n",
    "                    strides=strides, \n",
    "                    paddings=paddings, \n",
    "                    activation=activation,\n",
    "                    leak=leak,\n",
    "                    last_act=False,\n",
    "                    batchnorm=batchnorm,\n",
    "                    dropout=dropout)\n",
    "        \n",
    "ebm = ebm.cuda().to(device)\n",
    "print('Loading trained weights..')\n",
    "ebm.load_state_dict(torch.load('../weights/final/cp-%s' % load_version)['model_state_dict'])"
   ]
  },
  {
   "cell_type": "code",
   "execution_count": null,
   "metadata": {},
   "outputs": [],
   "source": [
    "from sebm.eval import *\n",
    "evaluator = Evaluator_EBM(ebm, device, dataset, data_dir, data_noise_std=1e-2)"
   ]
  },
  {
   "cell_type": "code",
   "execution_count": null,
   "metadata": {},
   "outputs": [],
   "source": [
    "# images_ebm = evaluator.uncond_sampling(batch_size=100, \n",
    "#                                           sgld_steps=1000,\n",
    "#                                           sgld_lr=2.0,\n",
    "#                                           sgld_noise_std=1e-3,\n",
    "#                                           grad_clipping=False,\n",
    "#                                           init_samples=None,\n",
    "#                                           logging_interval=None)\n",
    "# evaluator.plot_final_samples(images_ebm, fs=0.5, save=False)"
   ]
  },
  {
   "cell_type": "code",
   "execution_count": null,
   "metadata": {},
   "outputs": [],
   "source": [
    "fewshots(model_name='cebm', evaluator=evaluator)"
   ]
  },
  {
   "cell_type": "code",
   "execution_count": null,
   "metadata": {},
   "outputs": [],
   "source": [
    "# similarity_z_space(evaluator, train_batch_size=2000, test_batch_size=2000, model_name='cebm')"
   ]
  },
  {
   "cell_type": "code",
   "execution_count": null,
   "metadata": {},
   "outputs": [],
   "source": [
    "# metrics =  ['vae_z', 'cebm_z']\n",
    "# datasets = ['cifar10']\n",
    "# import torch\n",
    "# import numpy as np\n",
    "# import matplotlib.pyplot as plt\n",
    "# import seaborn as sns\n",
    "# sns.set_palette('colorblind')\n",
    "\n",
    "# # for d in datasets:\n",
    "# #     for m in metrics:\n",
    "# plot_confusion_matrices(datasets, metrics, fs=6)"
   ]
  },
  {
   "cell_type": "code",
   "execution_count": null,
   "metadata": {},
   "outputs": [],
   "source": [
    "# from sebm.eval import *\n",
    "# train_batch_size = 1000\n",
    "# data_dir = '/home/hao/Research/sebm_data/'\n",
    "# # dataset = 'svhn'\n",
    "# import torch\n",
    "# for i in range(3):\n",
    "#     print('processing on dataset %d' % (i+1))\n",
    "#     test_data = torch.load('/home/hao/Research/sebm_data/overviewfig/%s_test/%d.pt' % (dataset, i+1))\n",
    "#     min_distances, min_labels, nns = similarity_z_space_fewshots(evaluator, train_batch_size, test_data)\n",
    "#     plot_nearest_neighbors(test_data, nns, min_labels, min_distances, fs=1, save_name='%s_cebm_%d' % (dataset, (i+1)))"
   ]
  },
  {
   "cell_type": "code",
   "execution_count": null,
   "metadata": {},
   "outputs": [],
   "source": [
    "# scores = evaluator.oodauc(dataset_ood='emnist', score='gradient')\n",
    "# scores"
   ]
  },
  {
   "cell_type": "code",
   "execution_count": null,
   "metadata": {},
   "outputs": [],
   "source": [
    "# from sebm.eval import draw_one_batch\n",
    "# dataset = 'cifar10'\n",
    "# list_num_shots = [10]\n",
    "# for num_shots in list_num_shots:\n",
    "#     print('num of shots=%d' % num_shots)\n",
    "#     for i in range(10):\n",
    "#         images, labels = draw_one_batch(num_shots, \n",
    "#                                          dataset, \n",
    "#                                          data_dir, \n",
    "#                                          train=False, \n",
    "#                                          normalize=False, \n",
    "#                                          flatten=False)\n",
    "#         data = {'images': images, 'labels' : labels}\n",
    "#         torch.save(data, '/home/hao/Research/sebm_data/overviewfig/%s_test//%d.pt' % (dataset, i+1))"
   ]
  },
  {
   "cell_type": "code",
   "execution_count": null,
   "metadata": {},
   "outputs": [],
   "source": [
    "# logging_interval = 200 # None otherwise\n",
    "# test_batch_size = 10\n",
    "# init_samples, labels = draw_one_batch(1, dataset, data_dir, train=False, normalize=True, flatten=False)\n",
    "\n",
    "# images_ebm = evaluator.uncond_sampling_ll(sample_size=3,\n",
    "#                                           batch_size=test_batch_size, \n",
    "#                                           sgld_steps=1000,\n",
    "#                                           sgld_lr=2.0,\n",
    "#                                           sgld_noise_std=1e-3,\n",
    "#                                           init_images=init_samples,\n",
    "#                                           grad_clipping=False,\n",
    "#                                           logging_interval=None)\n",
    "# # nearestneighbours = evaluator.nn_latents(images_ebm)\n",
    "# # plot_evolving_samples(images_ebm, nearestneighbours, fs=8, save_name=None)"
   ]
  },
  {
   "cell_type": "code",
   "execution_count": null,
   "metadata": {},
   "outputs": [],
   "source": [
    "# plot_likelihood_cond_samples(images_ebm, fs=1)"
   ]
  },
  {
   "cell_type": "code",
   "execution_count": null,
   "metadata": {},
   "outputs": [],
   "source": [
    "# evaluator.plot_all_samples(list_images=images_ebm, fs=1.0)"
   ]
  },
  {
   "cell_type": "code",
   "execution_count": null,
   "metadata": {},
   "outputs": [],
   "source": [
    "# evaluator.plot_all_samples(images_ebm, fs=6, save=True)"
   ]
  },
  {
   "cell_type": "code",
   "execution_count": null,
   "metadata": {},
   "outputs": [],
   "source": [
    "# train_logistic_classifier(evaluator)"
   ]
  },
  {
   "cell_type": "code",
   "execution_count": null,
   "metadata": {},
   "outputs": [],
   "source": [
    "from sebm.util import cnn_output_shape\n",
    "cnn_output_shape(h=28,w=28,kernels=[4,4,4,4],strides=[2,2,2,2],paddings=[1,1,1,1])"
   ]
  },
  {
   "cell_type": "code",
   "execution_count": null,
   "metadata": {},
   "outputs": [],
   "source": [
    "4*512"
   ]
  },
  {
   "cell_type": "code",
   "execution_count": null,
   "metadata": {},
   "outputs": [],
   "source": []
  }
 ],
 "metadata": {
  "kernelspec": {
   "display_name": "Python 3",
   "language": "python",
   "name": "python3"
  },
  "language_info": {
   "codemirror_mode": {
    "name": "ipython",
    "version": 3
   },
   "file_extension": ".py",
   "mimetype": "text/x-python",
   "name": "python",
   "nbconvert_exporter": "python",
   "pygments_lexer": "ipython3",
   "version": "3.7.3"
  }
 },
 "nbformat": 4,
 "nbformat_minor": 4
}
