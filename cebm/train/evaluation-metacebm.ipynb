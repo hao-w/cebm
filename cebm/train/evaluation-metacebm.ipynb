{
 "cells": [
  {
   "cell_type": "code",
   "execution_count": 1,
   "id": "8b4084b1",
   "metadata": {},
   "outputs": [],
   "source": [
    "%matplotlib inline\n",
    "import torch\n",
    "from cebm.utils import load_models, init_models\n",
    "from cebm.data import setup_omniglot_loader\n",
    "\n",
    "model_name = 'META_CEBM'\n",
    "data, data_dir = 'omniglot', '../datasets/'\n",
    "way, shot = 5, 20\n",
    "dataset_args = {'data_dir': data_dir,\n",
    "                'way': way,\n",
    "                'shot': shot,\n",
    "                'train': False,\n",
    "                'normalize': True}\n",
    "task_loader, im_h, im_w, im_channels = setup_omniglot_loader(**dataset_args)\n",
    "device = torch.device('cuda:1')\n",
    "network_args = {'num_clusters': way,\n",
    "                'device': device,\n",
    "                'im_height': im_h, \n",
    "                'im_width': im_w, \n",
    "                'input_channels': im_channels, \n",
    "                'channels': [64,64,64,64], \n",
    "                'kernels': [3,3,3,3], \n",
    "                'strides': [1,1,1,1], \n",
    "                'paddings': [1,1,1,1],\n",
    "                'activation': 'ReLU',\n",
    "                'latent_dim': 64}\n",
    "\n",
    "sample_size, gibbs_sweeps = 1, 10\n",
    "models = init_models(model_name, device, [], network_args)\n",
    "exp_name = '%s_d=%s_z=%s' % \\\n",
    "            (model_name, data, network_args['latent_dim'])\n",
    "load_models(models, exp_name)"
   ]
  },
  {
   "cell_type": "code",
   "execution_count": 2,
   "id": "f25912e0",
   "metadata": {},
   "outputs": [],
   "source": [
    "test_episodes = task_loader.generate_tasks()"
   ]
  },
  {
   "cell_type": "code",
   "execution_count": 5,
   "id": "ee6a9775",
   "metadata": {
    "tags": []
   },
   "outputs": [
    {
     "data": {
      "text/plain": [
       "torch.Size([100, 1, 28, 28])"
      ]
     },
     "execution_count": 5,
     "metadata": {},
     "output_type": "execute_result"
    }
   ],
   "source": [
    "for t in test_episodes:\n",
    "    images, labels = t\n",
    "    break\n",
    "images.shape"
   ]
  },
  {
   "cell_type": "code",
   "execution_count": 15,
   "id": "22238a67",
   "metadata": {},
   "outputs": [
    {
     "data": {
      "text/plain": [
       "<matplotlib.collections.PathCollection at 0x7f0a109c0ee0>"
      ]
     },
     "execution_count": 15,
     "metadata": {},
     "output_type": "execute_result"
    },
    {
     "data": {
      "image/png": "[encoded data removed]",
      "text/plain": [
       "<Figure size 432x288 with 1 Axes>"
      ]
     },
     "metadata": {
      "needs_background": "light"
     },
     "output_type": "display_data"
    }
   ],
   "source": [
    "import matplotlib.pyplot as plt\n",
    "from sklearn.manifold import TSNE\n",
    "import numpy as np\n",
    "h = models['ebm'].forward(images.to(device)).detach().cpu()\n",
    "h_2d = TSNE(n_components=2).fit_transform(h)\n",
    "for c in range(len(labels.unique()))\n",
    "plt.scatter(h_2d[:,0], h_2d[:,1])\n",
    "# alpha, beta, mu, nu, pi, gammas, c_means, c_stds, ys = ebm.gibbs_updates(data_images, \n",
    "#                                                                          gibbs_sweeps, \n",
    "#                                                                          sample_size)"
   ]
  },
  {
   "cell_type": "code",
   "execution_count": 10,
   "id": "ebbe2cfb",
   "metadata": {},
   "outputs": [
    {
     "data": {
      "text/plain": [
       "(100, 2)"
      ]
     },
     "execution_count": 10,
     "metadata": {},
     "output_type": "execute_result"
    }
   ],
   "source": [
    "h_2d.shape"
   ]
  },
  {
   "cell_type": "code",
   "execution_count": 12,
   "id": "db4b6b0f",
   "metadata": {},
   "outputs": [
    {
     "data": {
      "text/plain": [
       "tensor([1259., 1479., 1506., 1509., 1520.])"
      ]
     },
     "execution_count": 12,
     "metadata": {},
     "output_type": "execute_result"
    }
   ],
   "source": [
    "labels.unique()"
   ]
  },
  {
   "cell_type": "code",
   "execution_count": null,
   "id": "56824993",
   "metadata": {},
   "outputs": [],
   "source": []
  }
 ],
 "metadata": {
  "kernelspec": {
   "display_name": "Python 3",
   "language": "python",
   "name": "python3"
  },
  "language_info": {
   "codemirror_mode": {
    "name": "ipython",
    "version": 3
   },
   "file_extension": ".py",
   "mimetype": "text/x-python",
   "name": "python",
   "nbconvert_exporter": "python",
   "pygments_lexer": "ipython3",
   "version": "3.8.5"
  }
 },
 "nbformat": 4,
 "nbformat_minor": 5
}
