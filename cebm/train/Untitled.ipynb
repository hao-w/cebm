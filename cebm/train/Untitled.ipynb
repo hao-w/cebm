{
 "cells": [
  {
   "cell_type": "code",
   "execution_count": 3,
   "id": "b58298cb",
   "metadata": {},
   "outputs": [],
   "source": [
    "from torchvision.models.resnet import ResNet, BasicBlock"
   ]
  },
  {
   "cell_type": "code",
   "execution_count": 5,
   "id": "c5d45325",
   "metadata": {},
   "outputs": [
    {
     "ename": "TypeError",
     "evalue": "'int' object is not subscriptable",
     "output_type": "error",
     "traceback": [
      "\u001b[0;31m---------------------------------------------------------------------------\u001b[0m",
      "\u001b[0;31mTypeError\u001b[0m                                 Traceback (most recent call last)",
      "\u001b[0;32m<ipython-input-5-61dcce6ada17>\u001b[0m in \u001b[0;36m<module>\u001b[0;34m\u001b[0m\n\u001b[0;32m----> 1\u001b[0;31m \u001b[0mResNet\u001b[0m\u001b[0;34m(\u001b[0m\u001b[0mblock\u001b[0m\u001b[0;34m=\u001b[0m\u001b[0mBasicBlock\u001b[0m\u001b[0;34m,\u001b[0m \u001b[0mlayers\u001b[0m\u001b[0;34m=\u001b[0m\u001b[0;36m18\u001b[0m\u001b[0;34m)\u001b[0m\u001b[0;34m\u001b[0m\u001b[0;34m\u001b[0m\u001b[0m\n\u001b[0m",
      "\u001b[0;32m~/anaconda3/lib/python3.8/site-packages/torchvision/models/resnet.py\u001b[0m in \u001b[0;36m__init__\u001b[0;34m(self, block, layers, num_classes, zero_init_residual, groups, width_per_group, replace_stride_with_dilation, norm_layer)\u001b[0m\n\u001b[1;32m    176\u001b[0m         \u001b[0mself\u001b[0m\u001b[0;34m.\u001b[0m\u001b[0mrelu\u001b[0m \u001b[0;34m=\u001b[0m \u001b[0mnn\u001b[0m\u001b[0;34m.\u001b[0m\u001b[0mReLU\u001b[0m\u001b[0;34m(\u001b[0m\u001b[0minplace\u001b[0m\u001b[0;34m=\u001b[0m\u001b[0;32mTrue\u001b[0m\u001b[0;34m)\u001b[0m\u001b[0;34m\u001b[0m\u001b[0;34m\u001b[0m\u001b[0m\n\u001b[1;32m    177\u001b[0m         \u001b[0mself\u001b[0m\u001b[0;34m.\u001b[0m\u001b[0mmaxpool\u001b[0m \u001b[0;34m=\u001b[0m \u001b[0mnn\u001b[0m\u001b[0;34m.\u001b[0m\u001b[0mMaxPool2d\u001b[0m\u001b[0;34m(\u001b[0m\u001b[0mkernel_size\u001b[0m\u001b[0;34m=\u001b[0m\u001b[0;36m3\u001b[0m\u001b[0;34m,\u001b[0m \u001b[0mstride\u001b[0m\u001b[0;34m=\u001b[0m\u001b[0;36m2\u001b[0m\u001b[0;34m,\u001b[0m \u001b[0mpadding\u001b[0m\u001b[0;34m=\u001b[0m\u001b[0;36m1\u001b[0m\u001b[0;34m)\u001b[0m\u001b[0;34m\u001b[0m\u001b[0;34m\u001b[0m\u001b[0m\n\u001b[0;32m--> 178\u001b[0;31m         \u001b[0mself\u001b[0m\u001b[0;34m.\u001b[0m\u001b[0mlayer1\u001b[0m \u001b[0;34m=\u001b[0m \u001b[0mself\u001b[0m\u001b[0;34m.\u001b[0m\u001b[0m_make_layer\u001b[0m\u001b[0;34m(\u001b[0m\u001b[0mblock\u001b[0m\u001b[0;34m,\u001b[0m \u001b[0;36m64\u001b[0m\u001b[0;34m,\u001b[0m \u001b[0mlayers\u001b[0m\u001b[0;34m[\u001b[0m\u001b[0;36m0\u001b[0m\u001b[0;34m]\u001b[0m\u001b[0;34m)\u001b[0m\u001b[0;34m\u001b[0m\u001b[0;34m\u001b[0m\u001b[0m\n\u001b[0m\u001b[1;32m    179\u001b[0m         self.layer2 = self._make_layer(block, 128, layers[1], stride=2,\n\u001b[1;32m    180\u001b[0m                                        dilate=replace_stride_with_dilation[0])\n",
      "\u001b[0;31mTypeError\u001b[0m: 'int' object is not subscriptable"
     ]
    }
   ],
   "source": [
    "ResNet(block=BasicBlock, layers=18)"
   ]
  },
  {
   "cell_type": "code",
   "execution_count": 33,
   "id": "209016d5",
   "metadata": {},
   "outputs": [],
   "source": [
    "import torch.nn as nn\n",
    "class resnet32wider(nn.Module):\n",
    "    def __init__(self, input_channels, latent_dim, activation):\n",
    "        super(resnet32wider, self).__init__()\n",
    "        \n",
    "        if activation == 'Swish':\n",
    "            act = Swish()\n",
    "        elif activation == 'LeakyReLU':\n",
    "            act = nn.LeakyReLU(inplace=True)\n",
    "        else:\n",
    "            act = getattr(nn, activation)()\n",
    "            \n",
    "        self.conv1 = nn.Conv2d(input_channels, 128, kernel_size=3, padding=1, bias=True)\n",
    "        self.res1 = BasicBlock(in_c=128, out_c=128, stride=2)\n",
    "        self.res2 = BasicBlock(in_c=128, out_c=128, stride=1)\n",
    "        self.res3 = BasicBlock(in_c=128, out_c=128, stride=1)\n",
    "        self.res4 = BasicBlock(in_c=128, out_c=256, stride=2)\n",
    "        self.res5 = BasicBlock(in_c=256, out_c=256, stride=1)\n",
    "        self.res6 = BasicBlock(in_c=256, out_c=256, stride=1)\n",
    "        self.res7 = BasicBlock(in_c=256, out_c=512, stride=2)\n",
    "        self.res8 = BasicBlock(in_c=512, out_c=512, stride=1)\n",
    "        self.res9 = BasicBlock(in_c=512, out_c=512, stride=1)\n",
    "        self.fc1 = nn.Sequential(\n",
    "                    nn.Linear(512*4*4, 512),\n",
    "                    act)\n",
    "        \n",
    "        self.nss1_net = nn.Linear(512, latent_dim)\n",
    "        self.nss2_net = nn.Linear(512, latent_dim)\n",
    "                    \n",
    "        self.flatten = nn.Flatten()\n",
    "            \n",
    "        \n",
    "    def forward(self, x):\n",
    "        h0 = self.conv1(x)\n",
    "        h1 = self.res1(h0)\n",
    "        h2 = self.res2(h1)\n",
    "        h3 = self.res3(h2)\n",
    "        h4 = self.res4(h3)\n",
    "        h5 = self.res5(h4)\n",
    "        h6 = self.res6(h5)\n",
    "        h7 = self.res7(h6)\n",
    "        h8 = self.res8(h7)\n",
    "        h9 = self.res9(h8)\n",
    "        h10 = self.fc1(self.flatten(h9))\n",
    "        nss1 = self.nss1_net(h10)\n",
    "        nss2 = self.nss2_net(h10)\n",
    "        return nss1, -nss2**2\n",
    "        \n",
    "        \n",
    "class BasicBlock(nn.Module):\n",
    "    \"\"\"\n",
    "    basic block module\n",
    "        stride   -- stride of the 1st cnn in the 1st block in a group\n",
    "        bn_flag -- whether do batch normalization\n",
    "    \"\"\"\n",
    "    def __init__(self, in_c, out_c, stride, activation=nn.LeakyReLU(inplace=True)):\n",
    "        super(BasicBlock, self).__init__()\n",
    "\n",
    "        self.activation = activation\n",
    "        self.c1 = nn.Conv2d(in_c, out_c, kernel_size=3, stride=1, padding=1, bias=True)\n",
    "        self.c2 = nn.Conv2d(out_c, out_c, kernel_size=3, stride=stride, padding=1, bias=True)\n",
    "                    \n",
    "        if in_c != out_c:\n",
    "            self.shortcut = nn.Conv2d(in_c, out_c, kernel_size=1, stride=stride, bias=True)\n",
    "        else:\n",
    "            if stride != 1:\n",
    "                self.shortcut = nn.AvgPool2d(kernel_size=2)\n",
    "            else:\n",
    "                self.shortcut = nn.Identity()\n",
    "\n",
    "    def forward(self, x):\n",
    "        h1 = self.activation(self.c1(x))\n",
    "        h2 = self.activation(self.c2(h1))\n",
    "        out = self.activation(h2 + self.shortcut(x))\n",
    "        \n",
    "        return out  "
   ]
  },
  {
   "cell_type": "code",
   "execution_count": 34,
   "id": "04947b00",
   "metadata": {},
   "outputs": [],
   "source": [
    "resnet = resnet32wider()"
   ]
  },
  {
   "cell_type": "code",
   "execution_count": 35,
   "id": "26edfecc",
   "metadata": {},
   "outputs": [],
   "source": [
    "import torch\n",
    "x = torch.randn((128, 3, 32, 32))\n",
    "o = resnet(x)"
   ]
  },
  {
   "cell_type": "code",
   "execution_count": 36,
   "id": "a94a2f57",
   "metadata": {},
   "outputs": [
    {
     "data": {
      "text/plain": [
       "torch.Size([128, 512, 4, 4])"
      ]
     },
     "execution_count": 36,
     "metadata": {},
     "output_type": "execute_result"
    }
   ],
   "source": [
    "o.shape"
   ]
  },
  {
   "cell_type": "code",
   "execution_count": null,
   "id": "dc9866ee",
   "metadata": {},
   "outputs": [],
   "source": []
  }
 ],
 "metadata": {
  "kernelspec": {
   "display_name": "Python 3",
   "language": "python",
   "name": "python3"
  },
  "language_info": {
   "codemirror_mode": {
    "name": "ipython",
    "version": 3
   },
   "file_extension": ".py",
   "mimetype": "text/x-python",
   "name": "python",
   "nbconvert_exporter": "python",
   "pygments_lexer": "ipython3",
   "version": "3.8.5"
  }
 },
 "nbformat": 4,
 "nbformat_minor": 5
}
