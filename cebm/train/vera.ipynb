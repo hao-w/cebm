{
 "cells": [
  {
   "cell_type": "code",
   "execution_count": 1,
   "id": "f2cfcd50",
   "metadata": {},
   "outputs": [],
   "source": [
    "%load_ext autoreload\n",
    "%autoreload 2"
   ]
  },
  {
   "cell_type": "code",
   "execution_count": 2,
   "id": "3a42a0e8",
   "metadata": {},
   "outputs": [],
   "source": [
    "import torch\n",
    "import torch.nn as nn"
   ]
  },
  {
   "cell_type": "markdown",
   "id": "5a6e6862",
   "metadata": {},
   "source": [
    "### Data"
   ]
  },
  {
   "cell_type": "code",
   "execution_count": 3,
   "id": "8cdb805a",
   "metadata": {},
   "outputs": [],
   "source": [
    "import torchvision.transforms as transforms\n",
    "import torchvision.datasets as datasets\n",
    "from torch.utils.data.sampler import SubsetRandomSampler\n",
    "from torch.utils.data import Dataset, TensorDataset, DataLoader, ConcatDataset\n",
    "\n",
    "\n",
    "transform = transforms.Compose([transforms.ToTensor()])\n",
    "\n",
    "data_path = '../Datasets/mnist/'\n",
    "dataset = datasets.MNIST(data_path, train=True, transform=transform, download=True)\n",
    "test_dataset = datasets.MNIST(data_path, train=False, transform=transform, download=True)\n",
    "\n",
    "train_loader = DataLoader(dataset, batch_size=100, num_workers=4)"
   ]
  },
  {
   "cell_type": "markdown",
   "id": "1b4fced1",
   "metadata": {},
   "source": [
    "### Model"
   ]
  },
  {
   "cell_type": "code",
   "execution_count": 13,
   "id": "ff6b24fd",
   "metadata": {},
   "outputs": [],
   "source": [
    "from cebm.network.network import _cnn, build_decoder\n",
    "\n",
    "channels = [32,32,64,64]\n",
    "num_neurons = [128]\n",
    "kernels = [3,4,4,4]\n",
    "strides = [1,2,2,2]\n",
    "paddings = [3,1,1,1]\n",
    "activation = 'SiLU'\n",
    "\n",
    "p, _ = _cnn(28, 28, 1, channels=channels, num_neurons=num_neurons, kernels=kernels, strides=strides, paddings=paddings, activation=activation)\n",
    "p = nn.Sequential(p,nn.Linear(128, 1))"
   ]
  },
  {
   "cell_type": "code",
   "execution_count": 14,
   "id": "2e70a5d8",
   "metadata": {
    "collapsed": true,
    "jupyter": {
     "outputs_hidden": true
    },
    "tags": []
   },
   "outputs": [
    {
     "data": {
      "text/plain": [
       "Sequential(\n",
       "  (0): Sequential(\n",
       "    (0): Sequential(\n",
       "      (0): Conv2d(1, 32, kernel_size=(3, 3), stride=(1, 1), padding=(3, 3))\n",
       "      (1): SiLU(inplace=True)\n",
       "      (2): Conv2d(32, 32, kernel_size=(4, 4), stride=(2, 2), padding=(1, 1))\n",
       "      (3): SiLU(inplace=True)\n",
       "      (4): Conv2d(32, 64, kernel_size=(4, 4), stride=(2, 2), padding=(1, 1))\n",
       "      (5): SiLU(inplace=True)\n",
       "      (6): Conv2d(64, 64, kernel_size=(4, 4), stride=(2, 2), padding=(1, 1))\n",
       "      (7): SiLU(inplace=True)\n",
       "    )\n",
       "    (1): Sequential(\n",
       "      (0): Flatten(start_dim=1, end_dim=-1)\n",
       "      (1): Linear(in_features=1024, out_features=128, bias=True)\n",
       "      (2): SiLU(inplace=True)\n",
       "    )\n",
       "  )\n",
       "  (1): Linear(in_features=128, out_features=1, bias=True)\n",
       ")"
      ]
     },
     "execution_count": 14,
     "metadata": {},
     "output_type": "execute_result"
    }
   ],
   "source": [
    "p"
   ]
  },
  {
   "cell_type": "code",
   "execution_count": 15,
   "id": "9e721bf8",
   "metadata": {},
   "outputs": [
    {
     "data": {
      "text/plain": [
       "torch.Size([10, 1])"
      ]
     },
     "execution_count": 15,
     "metadata": {},
     "output_type": "execute_result"
    }
   ],
   "source": [
    "p(torch.rand(10,1,28,28)).shape"
   ]
  },
  {
   "cell_type": "code",
   "execution_count": 16,
   "id": "ef64757b",
   "metadata": {},
   "outputs": [],
   "source": [
    "q = build_decoder(p[0]) \n",
    "q = q[1:] + [nn.Sigmoid()]\n",
    "q = nn.Sequential(*q)"
   ]
  },
  {
   "cell_type": "code",
   "execution_count": 17,
   "id": "2a225e79",
   "metadata": {
    "collapsed": true,
    "jupyter": {
     "outputs_hidden": true
    },
    "tags": []
   },
   "outputs": [
    {
     "data": {
      "text/plain": [
       "Sequential(\n",
       "  (0): Linear(in_features=128, out_features=1024, bias=True)\n",
       "  (1): SiLU(inplace=True)\n",
       "  (2): Reshape()\n",
       "  (3): ConvTranspose2d(64, 64, kernel_size=(4, 4), stride=(2, 2), padding=(1, 1))\n",
       "  (4): SiLU(inplace=True)\n",
       "  (5): ConvTranspose2d(64, 32, kernel_size=(4, 4), stride=(2, 2), padding=(1, 1))\n",
       "  (6): SiLU(inplace=True)\n",
       "  (7): ConvTranspose2d(32, 32, kernel_size=(4, 4), stride=(2, 2), padding=(1, 1))\n",
       "  (8): SiLU(inplace=True)\n",
       "  (9): ConvTranspose2d(32, 1, kernel_size=(3, 3), stride=(1, 1), padding=(3, 3))\n",
       "  (10): Sigmoid()\n",
       ")"
      ]
     },
     "execution_count": 17,
     "metadata": {},
     "output_type": "execute_result"
    }
   ],
   "source": [
    "q"
   ]
  },
  {
   "cell_type": "code",
   "execution_count": 18,
   "id": "44d7e737",
   "metadata": {},
   "outputs": [],
   "source": [
    "logsigma_qx = nn.Parameter((torch.ones(1, ) * .01).log())\n",
    "logsigma_xiz = nn.Parameter((torch.ones(noise_dim,) * init_post_logsigma).log())"
   ]
  },
  {
   "cell_type": "markdown",
   "id": "1418da5d",
   "metadata": {},
   "source": [
    "### Optimizers"
   ]
  },
  {
   "cell_type": "code",
   "execution_count": null,
   "id": "dfdfc006",
   "metadata": {},
   "outputs": [],
   "source": [
    "optim_logsigma_xiz = torch.optim.Adam([logsigma_xiz], lr=1e-3)\n",
    "optim_p = torch.optim.Adam(p.parameters(), lr=1e-4)"
   ]
  },
  {
   "cell_type": "markdown",
   "id": "2c417743",
   "metadata": {},
   "source": [
    "### Objective"
   ]
  },
  {
   "cell_type": "code",
   "execution_count": null,
   "id": "3740519d",
   "metadata": {},
   "outputs": [],
   "source": [
    "import torch.distributions as D\n",
    "\n",
    "def epoch(x):\n",
    "    \n",
    "    B = x.shape[0]\n",
    "    S = 20\n",
    "    \n",
    "    # sample z ~ q(z)\n",
    "    z0 = torch.randn(B, 128)\n",
    "    \n",
    "    # sample x ~ q(x|z0)\n",
    "    x_q_z0 = q(z0)\n",
    "    \n",
    "    # xi(z|z0)\n",
    "    xi_z_z0 = D.Normal(z0, logsigma_xiz.exp())\n",
    "    \n",
    "    # sample z ~ xi(z|z0)\n",
    "    z = xi_z_z0.rsample() # (B, 128)\n",
    "    \n",
    "    # get decoder means\n",
    "    x_q_z = q(z)\n",
    "    \n",
    "    # distributions in q \n",
    "    q_x_z = D.Normal(x_q_z, sigma_qx.exp())\n",
    "    q_z = D.Normal(0, 1)\n",
    "    \n",
    "    \n",
    "    # elbo for logsigma_xiz\n",
    "    breakpoint()\n",
    "    elbo = q_x_z.log_prob(x_q_z0) + q_z.log_prob(z) + xi_z_z0.entropy()\n",
    "    logsigma_loss = -elbo.mean()\n",
    "    \n",
    "    optim_logsigma_xiz.zero_grad()\n",
    "    logsigma_loss.backward()\n",
    "    optim_logsigma_xiz.step()\n",
    "    \n",
    "    # p loss\n",
    "    energy_x_data = p(x)\n",
    "    energy_x_q = p(x_q_z0)\n",
    "    breakpoint()\n",
    "    grad_energy_xd = torch.autograd.grad(energy_x_data.sum(), x, create_graph=True)[0].flatten(start_dim=1).norm(2, 1)\n",
    "    \n",
    "    gamma = 0.1\n",
    "    p_loss = energy_x_data - energy_x_q + gamma * grad_energy_xd.pow(2)\n",
    "    \n",
    "    optim_p.zero_grad()\n",
    "    p_loss.backward()\n",
    "    optim_p.step()\n",
    "    \n",
    "    \n",
    "    # sample z ~ xi(z|z0)\n",
    "    z = xi_z_z0.rsample(sample_size=(S,)) # (S, B, 128)\n",
    "    \n",
    "    # get decoder means\n",
    "    x_q_z = q(z)\n",
    "    \n",
    "    # distributions in q \n",
    "    q_x_z = D.Normal(x_q_z, sigma_qx.exp())\n",
    "    \n",
    "    log_w = (q_x_z.log_prob(x_q_z0) + q_z.log_prob(z) - xi_z_z0.log_prob(z)).sum(-1)\n",
    "    log_w = log_w - log_w.logsumexp(0) # (S, B)\n",
    "    \n",
    "    # grad_x log_qx\n",
    "    grad_x_log_qx = (x_q_z0[None] - x_q_z) / (sigma_qx ** 2) # (S, B, 1, 28, 28)\n",
    "    grad_x_log_qx = (log_w.exp()[:,:,None] *  grad_x_log_qx).sum(0)\n",
    "    \n",
    "    \n",
    "    \n",
    "    \n",
    "    \n",
    "    \n",
    "    \n",
    "    "
   ]
  },
  {
   "cell_type": "code",
   "execution_count": 1,
   "id": "488ba542",
   "metadata": {},
   "outputs": [],
   "source": [
    "import torch\n"
   ]
  },
  {
   "cell_type": "code",
   "execution_count": null,
   "id": "e6d309d1",
   "metadata": {},
   "outputs": [],
   "source": []
  }
 ],
 "metadata": {
  "kernelspec": {
   "display_name": "Python 3",
   "language": "python",
   "name": "python3"
  },
  "language_info": {
   "codemirror_mode": {
    "name": "ipython",
    "version": 3
   },
   "file_extension": ".py",
   "mimetype": "text/x-python",
   "name": "python",
   "nbconvert_exporter": "python",
   "pygments_lexer": "ipython3",
   "version": "3.8.5"
  }
 },
 "nbformat": 4,
 "nbformat_minor": 5
}
