{
 "cells": [
  {
   "cell_type": "code",
   "execution_count": null,
   "metadata": {},
   "outputs": [],
   "source": [
    "import os\n",
    "import torch\n",
    "CUDA = torch.cuda.is_available()\n",
    "if CUDA:\n",
    "    DEVICE = torch.device('cuda:1')\n",
    "print('torch:', torch.__version__, 'CUDA:', CUDA)\n",
    "# training parameters\n",
    "NUM_EPOCHS = 1000\n",
    "SAMPLE_SIZE = 10\n",
    "BATCH_SIZE = 100\n",
    "LR = 1e-3\n",
    "## Model Parameters\n",
    "HIDDEN_DIM = 256\n",
    "PIXELS_DIM = 28*28\n",
    "LATENTS_DIM = 10\n",
    "OPTIMIZE_PRIORS = False\n",
    "OBJECTIVE = 'KL' # option : MAP, KL\n",
    "OPT_SCHEDULE = None\n",
    "REPARAMETERIZED = True\n",
    "SAVE_VERSION = 'nvi-test'"
   ]
  },
  {
   "cell_type": "code",
   "execution_count": null,
   "metadata": {},
   "outputs": [],
   "source": [
    "from torchvision import datasets, transforms\n",
    "## data directory\n",
    "DATA_DIR = '/home/hao/Research/nvi_data/'\n",
    "if not os.path.isdir(DATA_DIR):\n",
    "    os.makedirs(DATA_DIR)\n",
    "train_data = torch.utils.data.DataLoader(\n",
    "                datasets.MNIST(DATA_DIR, train=True, download=True,\n",
    "                               transform=transforms.ToTensor()),\n",
    "                batch_size=BATCH_SIZE, shuffle=True) "
   ]
  },
  {
   "cell_type": "code",
   "execution_count": null,
   "metadata": {},
   "outputs": [],
   "source": [
    "from quasi_conj.modules.module_ops import init_modules\n",
    "modules, optimizer_phi, optimizer_theta = init_modules(pixels_dim=PIXELS_DIM, \n",
    "                                                         hidden_dim=HIDDEN_DIM, \n",
    "                                                         latents_dim=LATENTS_DIM, \n",
    "                                                         optimize_priors=OPTIMIZE_PRIORS,\n",
    "                                                         reparameterized=REPARAMETERIZED,\n",
    "                                                         CUDA=CUDA, \n",
    "                                                         DEVICE=DEVICE, \n",
    "                                                         LOAD_VERSION=None, \n",
    "                                                         LR=LR)\n"
   ]
  },
  {
   "cell_type": "code",
   "execution_count": null,
   "metadata": {},
   "outputs": [],
   "source": [
    "from quasi_conj.training import train\n",
    "from quasi_conj.objectives import MIN_KL\n",
    "train(objective=MIN_KL, \n",
    "      opt_schedule=OPT_SCHEDULE,\n",
    "      optimizer_phi=optimizer_phi,\n",
    "      optimizer_theta=optimizer_theta,\n",
    "      modules=modules,\n",
    "      train_data=train_data,\n",
    "      num_epochs=NUM_EPOCHS,\n",
    "      sample_size=SAMPLE_SIZE,\n",
    "      batch_size=BATCH_SIZE,\n",
    "      CUDA=CUDA,\n",
    "      DEVICE=DEVICE, \n",
    "      SAVE_VERSION=SAVE_VERSION)"
   ]
  },
  {
   "cell_type": "code",
   "execution_count": null,
   "metadata": {},
   "outputs": [],
   "source": []
  },
  {
   "cell_type": "code",
   "execution_count": null,
   "metadata": {},
   "outputs": [],
   "source": []
  }
 ],
 "metadata": {
  "kernelspec": {
   "display_name": "Python 3",
   "language": "python",
   "name": "python3"
  },
  "language_info": {
   "codemirror_mode": {
    "name": "ipython",
    "version": 3
   },
   "file_extension": ".py",
   "mimetype": "text/x-python",
   "name": "python",
   "nbconvert_exporter": "python",
   "pygments_lexer": "ipython3",
   "version": "3.7.3"
  }
 },
 "nbformat": 4,
 "nbformat_minor": 4
}
