{
 "cells": [
  {
   "cell_type": "code",
   "execution_count": 1,
   "metadata": {},
   "outputs": [
    {
     "name": "stdout",
     "output_type": "stream",
     "text": [
      "torch: 1.3.0 CUDA: True\n"
     ]
    }
   ],
   "source": [
    "%matplotlib inline\n",
    "import os\n",
    "import torch\n",
    "CUDA = torch.cuda.is_available()\n",
    "if CUDA:\n",
    "    DEVICE = torch.device('cuda:1')\n",
    "print('torch:', torch.__version__, 'CUDA:', CUDA)\n",
    "# training parameters\n",
    "SAMPLE_SIZE = 10\n",
    "BATCH_SIZE = 100\n",
    "## Model Parameters\n",
    "D = 2 # data point dimensions\n",
    "HIDDEN_DIM = 256\n",
    "PIXELS_DIM = 28*28\n",
    "LATENTS_DIM = 10\n",
    "OPTIMIZE_PRIORS = False\n",
    "# LOAD_VERSION = 'mnist-EUBO-10samples-0.00100lr'\n",
    "REPARAMETERIZED = False\n",
    "LOAD_VERSION = 'nvi-test'"
   ]
  },
  {
   "cell_type": "code",
   "execution_count": 2,
   "metadata": {},
   "outputs": [],
   "source": [
    "from torchvision import datasets, transforms\n",
    "## data directory\n",
    "DATA_DIR = '/home/hao/Research/nvi_data/'\n",
    "if not os.path.isdir(DATA_DIR):\n",
    "    os.makedirs(DATA_DIR)\n",
    "train_data = torch.utils.data.DataLoader(\n",
    "                datasets.MNIST(DATA_DIR, train=True, download=True,\n",
    "                               transform=transforms.ToTensor()),\n",
    "                batch_size=BATCH_SIZE, shuffle=True) \n",
    "\n",
    "test_data = torch.utils.data.DataLoader(\n",
    "                datasets.MNIST(DATA_DIR, train=False, download=True,\n",
    "                               transform=transforms.ToTensor()),\n",
    "                batch_size=BATCH_SIZE, shuffle=True) "
   ]
  },
  {
   "cell_type": "code",
   "execution_count": 3,
   "metadata": {},
   "outputs": [],
   "source": [
    "from quasi_conj.modules.module_ops import init_modules\n",
    "modules = init_modules(pixels_dim=PIXELS_DIM, \n",
    "                                     hidden_dim=HIDDEN_DIM, \n",
    "                                     latents_dim=LATENTS_DIM, \n",
    "                                     optimize_priors=OPTIMIZE_PRIORS,\n",
    "                                     reparameterized=REPARAMETERIZED,\n",
    "                                     CUDA=CUDA, \n",
    "                                     DEVICE=DEVICE, \n",
    "                                     LOAD_VERSION=LOAD_VERSION, \n",
    "                                     LR=None)"
   ]
  },
  {
   "cell_type": "code",
   "execution_count": 4,
   "metadata": {},
   "outputs": [],
   "source": [
    "from quasi_conj.testing import TSNE_latents, visualize_tsne_embedding, visualize_reconstructions\n",
    "# tsne_embedding, labels = TSNE_latents(modules=modules, \n",
    "#                                      test_data=test_data, \n",
    "#                                      sample_size=1, \n",
    "#                                      batch_size=BATCH_SIZE, \n",
    "#                                      CUDA=CUDA, \n",
    "#                                      DEVICE=DEVICE)"
   ]
  },
  {
   "cell_type": "code",
   "execution_count": 5,
   "metadata": {},
   "outputs": [],
   "source": [
    "# visualize_tsne_embedding(tsne_embedding=tsne_embedding, labels=labels, figure_size=8, save_name=None)"
   ]
  },
  {
   "cell_type": "code",
   "execution_count": 6,
   "metadata": {},
   "outputs": [
    {
     "data": {
      "image/png": "[encoded data removed]",
      "text/plain": [
       "<Figure size 720x216 with 20 Axes>"
      ]
     },
     "metadata": {},
     "output_type": "display_data"
    }
   ],
   "source": [
    "visualize_reconstructions(modules=modules, \n",
    "                          test_data=test_data, \n",
    "                          sample_size=1000,\n",
    "                          batch_size=10, \n",
    "                          figure_size=10,\n",
    "                          CUDA=CUDA, \n",
    "                          DEVICE=DEVICE)"
   ]
  },
  {
   "cell_type": "code",
   "execution_count": null,
   "metadata": {},
   "outputs": [],
   "source": [
    "for b, (images, _) in enumerate(train_data):\n",
    "    break"
   ]
  },
  {
   "cell_type": "code",
   "execution_count": null,
   "metadata": {},
   "outputs": [],
   "source": [
    "import math\n",
    "images = images.squeeze(1).view(-1, 28*28)\n",
    "images = images.repeat(10, 1, 1)\n",
    "log_base_measure = - 0.5 * torch.Tensor([math.pi*2]).log()\n",
    "if CUDA:\n",
    "    images = images.cuda().to(DEVICE)\n",
    "    log_base_measure = log_base_measure.cuda().to(DEVICE)\n",
    "(sampler_latents, sampler_images) = modules\n",
    "neural_ss = sampler_latents.neural_ss(images)"
   ]
  },
  {
   "cell_type": "code",
   "execution_count": null,
   "metadata": {},
   "outputs": [],
   "source": [
    "from quasi_conj.gaussian_conjugacy import params_to_nats, nats_to_params, posterior_nats, unnormalized_marginal_log_prob\n",
    "posterior_nat1, posterior_nat2 = posterior_nats(sampler_latents.prior_nat1, sampler_latents.prior_nat2, neural_ss)\n",
    "posterior_mu, posterior_sigma = nats_to_params(posterior_nat1, posterior_nat2)"
   ]
  },
  {
   "cell_type": "code",
   "execution_count": null,
   "metadata": {},
   "outputs": [],
   "source": [
    "from torch.distributions.normal import Normal\n",
    "posterior_dist = Normal(posterior_mu, posterior_sigma)\n",
    "latents = posterior_dist.sample()\n",
    "log_prob1 = posterior_dist.log_prob(latents)"
   ]
  },
  {
   "cell_type": "code",
   "execution_count": null,
   "metadata": {},
   "outputs": [],
   "source": [
    "posterior_log_partition = - 0.25 * ((posterior_nat1)**2 / posterior_nat2) - 0.5 * (- 2 * posterior_nat2).log()\n",
    "log_prob2 = log_base_measure + posterior_nat1 * latents - posterior_nat1 * (latents**2) - posterior_log_partition"
   ]
  },
  {
   "cell_type": "code",
   "execution_count": null,
   "metadata": {},
   "outputs": [],
   "source": [
    "(log_prob1 - log_prob2).abs().sum()"
   ]
  },
  {
   "cell_type": "code",
   "execution_count": null,
   "metadata": {},
   "outputs": [],
   "source": [
    "posterior_nat1.shape"
   ]
  },
  {
   "cell_type": "code",
   "execution_count": null,
   "metadata": {},
   "outputs": [],
   "source": [
    "posterior_mu, posterior_sigma = nats_to_params(posterior_nat1, posterior_nat2)\n",
    "a, b = params_to_nats(mu=posterior_mu, sigma=posterior_sigma)\n"
   ]
  },
  {
   "cell_type": "code",
   "execution_count": null,
   "metadata": {},
   "outputs": [],
   "source": [
    "(posterior_nat1 - a).abs()[0, 0, 1]"
   ]
  },
  {
   "cell_type": "code",
   "execution_count": null,
   "metadata": {},
   "outputs": [],
   "source": [
    "posterior_mu[0,0,1]"
   ]
  },
  {
   "cell_type": "code",
   "execution_count": null,
   "metadata": {},
   "outputs": [],
   "source": [
    "- 0.5 * posterior_nat1[0,0,1] / (-5)"
   ]
  },
  {
   "cell_type": "code",
   "execution_count": null,
   "metadata": {},
   "outputs": [],
   "source": [
    "c, d = nats_to_params(posterior_nat1[0,0,1], torch.Tensor([- 5.0]).cuda().to(DEVICE))\n"
   ]
  },
  {
   "cell_type": "code",
   "execution_count": null,
   "metadata": {},
   "outputs": [],
   "source": [
    "posterior_nat2.type()"
   ]
  },
  {
   "cell_type": "code",
   "execution_count": null,
   "metadata": {},
   "outputs": [],
   "source": [
    "posterior_nat1[0,0,1]"
   ]
  },
  {
   "cell_type": "code",
   "execution_count": null,
   "metadata": {},
   "outputs": [],
   "source": [
    "(posterior_nat2 - b).abs()"
   ]
  },
  {
   "cell_type": "code",
   "execution_count": null,
   "metadata": {},
   "outputs": [],
   "source": [
    "posterior_mu"
   ]
  },
  {
   "cell_type": "code",
   "execution_count": null,
   "metadata": {},
   "outputs": [],
   "source": []
  }
 ],
 "metadata": {
  "kernelspec": {
   "display_name": "Python 3",
   "language": "python",
   "name": "python3"
  },
  "language_info": {
   "codemirror_mode": {
    "name": "ipython",
    "version": 3
   },
   "file_extension": ".py",
   "mimetype": "text/x-python",
   "name": "python",
   "nbconvert_exporter": "python",
   "pygments_lexer": "ipython3",
   "version": "3.7.3"
  }
 },
 "nbformat": 4,
 "nbformat_minor": 4
}
