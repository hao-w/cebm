{
 "cells": [
  {
   "cell_type": "code",
   "execution_count": 1,
   "metadata": {},
   "outputs": [
    {
     "name": "stdout",
     "output_type": "stream",
     "text": [
      "torch: 1.3.0 CUDA: True\n"
     ]
    }
   ],
   "source": [
    "%matplotlib inline\n",
    "import os\n",
    "import torch\n",
    "CUDA = torch.cuda.is_available()\n",
    "if CUDA:\n",
    "    DEVICE = torch.device('cuda:0')\n",
    "print('torch:', torch.__version__, 'CUDA:', CUDA)\n",
    "# training parameters\n",
    "NUM_EPOCHS = 1000\n",
    "SAMPLE_SIZE = 10\n",
    "BATCH_SIZE = 100\n",
    "LR = 1e-3\n",
    "## Model Parameters\n",
    "D = 2 # data point dimensions\n",
    "HIDDEN_DIM = 200\n",
    "PIXELS_DIM = 28*28\n",
    "LATENTS_DIM = 10\n",
    "REPARAMETERIZED = True\n",
    "SAVE_VERSION = 'digit' "
   ]
  },
  {
   "cell_type": "code",
   "execution_count": 2,
   "metadata": {},
   "outputs": [],
   "source": [
    "from torchvision import datasets, transforms\n",
    "## data directory\n",
    "DATA_DIR = '/home/hao/Research/sebm_data/'\n",
    "if not os.path.isdir(DATA_DIR):\n",
    "    os.makedirs(DATA_DIR)\n",
    "train_data = torch.utils.data.DataLoader(\n",
    "                datasets.MNIST(DATA_DIR, train=True, download=True,\n",
    "                               transform=transforms.ToTensor()),\n",
    "                batch_size=BATCH_SIZE, shuffle=True) \n",
    "\n",
    "test_data = torch.utils.data.DataLoader(\n",
    "                datasets.MNIST(DATA_DIR, train=False, download=True,\n",
    "                               transform=transforms.ToTensor()),\n",
    "                batch_size=BATCH_SIZE, shuffle=True) "
   ]
  },
  {
   "cell_type": "code",
   "execution_count": 5,
   "metadata": {},
   "outputs": [],
   "source": [
    "from sebm_mnist.modules.vae_ops import init_modules\n",
    "modules, optimizer = init_modules(pixels_dim=PIXELS_DIM, \n",
    "                                 hidden_dim=HIDDEN_DIM, \n",
    "                                 latents_dim=LATENTS_DIM, \n",
    "                                 reparameterized=REPARAMETERIZED,\n",
    "                                 CUDA=CUDA, \n",
    "                                 DEVICE=DEVICE, \n",
    "                                 LOAD_VERSION=None, \n",
    "                                 LR=LR)"
   ]
  },
  {
   "cell_type": "code",
   "execution_count": 17,
   "metadata": {},
   "outputs": [],
   "source": [
    "# from quasi_conj.training_vae import train\n",
    "# train(optimizer=optimizer,\n",
    "#       modules=modules,\n",
    "#       train_data=train_data,\n",
    "#       num_epochs=NUM_EPOCHS,\n",
    "#       sample_size=SAMPLE_SIZE,\n",
    "#       batch_size=BATCH_SIZE,\n",
    "#       CUDA=CUDA,\n",
    "#       DEVICE=DEVICE, \n",
    "#       SAVE_VERSION=SAVE_VERSION)"
   ]
  },
  {
   "cell_type": "code",
   "execution_count": 18,
   "metadata": {},
   "outputs": [
    {
     "data": {
      "image/png": "[encoded data removed]",
      "text/plain": [
       "<Figure size 216x43.2 with 20 Axes>"
      ]
     },
     "metadata": {},
     "output_type": "display_data"
    }
   ],
   "source": [
    "from quasi_conj.training_vae import sample_batch, visualize_reconstructions\n",
    "# test_batch = sample_batch(test_data, data_ptr=3)\n",
    "visualize_reconstructions(modules, test_batch, SAMPLE_SIZE, 10, 3, CUDA, DEVICE, save_name=SAVE_VERSION)"
   ]
  },
  {
   "cell_type": "code",
   "execution_count": 19,
   "metadata": {},
   "outputs": [
    {
     "data": {
      "image/png": "[encoded data removed]",
      "text/plain": [
       "<Figure size 216x43.2 with 20 Axes>"
      ]
     },
     "metadata": {},
     "output_type": "display_data"
    }
   ],
   "source": [
    "SAVE_VERSION = 'vae' \n",
    "modules, optimizer = init_modules(pixels_dim=PIXELS_DIM, \n",
    "                                 hidden_dim=HIDDEN_DIM, \n",
    "                                 latents_dim=LATENTS_DIM, \n",
    "                                 reparameterized=REPARAMETERIZED,\n",
    "                                 CUDA=CUDA, \n",
    "                                 DEVICE=DEVICE, \n",
    "                                 LOAD_VERSION=SAVE_VERSION, \n",
    "                                 LR=LR)\n",
    "visualize_reconstructions(modules, test_batch, SAMPLE_SIZE, 10, 3, CUDA, DEVICE, save_name=SAVE_VERSION)"
   ]
  },
  {
   "cell_type": "code",
   "execution_count": null,
   "metadata": {},
   "outputs": [],
   "source": []
  }
 ],
 "metadata": {
  "kernelspec": {
   "display_name": "Python 3",
   "language": "python",
   "name": "python3"
  },
  "language_info": {
   "codemirror_mode": {
    "name": "ipython",
    "version": 3
   },
   "file_extension": ".py",
   "mimetype": "text/x-python",
   "name": "python",
   "nbconvert_exporter": "python",
   "pygments_lexer": "ipython3",
   "version": "3.7.3"
  }
 },
 "nbformat": 4,
 "nbformat_minor": 4
}
