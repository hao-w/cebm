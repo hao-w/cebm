{
 "cells": [
  {
   "cell_type": "code",
   "execution_count": 1,
   "metadata": {},
   "outputs": [
    {
     "name": "stdout",
     "output_type": "stream",
     "text": [
      "torch: 1.3.0 CUDA: True\n",
      "Load MNIST dataset...\n",
      "Initialize energy function and optimizer...\n",
      "Initialize SGLD sampler...\n",
      "Initialize data noise sampler...\n"
     ]
    }
   ],
   "source": [
    "    import torch\n",
    "    from sebm_mnist.data import load_data\n",
    "#     from sebm_mnist.objectives import mle\n",
    "    from sebm_mnist.modules.sgld import SGLD_sampler\n",
    "    from sebm_mnist.modules.data_noise import DATA_NOISE_sampler\n",
    "    from sebm_mnist.modules.energy_function import Energy_function\n",
    "    \n",
    "    CUDA = torch.cuda.is_available()\n",
    "    if CUDA:\n",
    "        DEVICE = torch.device('cuda:0')\n",
    "    print('torch:', torch.__version__, 'CUDA:', CUDA)\n",
    "    # optimization hyper-parameters\n",
    "    num_epochs = 100\n",
    "    sample_size = 10\n",
    "    batch_size = 100\n",
    "    lr = 1e-4\n",
    "    ## model hyper-parameters\n",
    "    D = 2 # data point dimensions\n",
    "    hidden_dim = 400\n",
    "    pixels_dim = 28*28\n",
    "    latents_dim = 10\n",
    "    reparameterized = False\n",
    "    optimize_priors = False\n",
    "    ## EBM hyper-parameters\n",
    "    data_noise_std = 0.1\n",
    "    sgld_num_steps = 2\n",
    "    sgld_step_size = 1\n",
    "    sgld_init_sample_std = 0.1\n",
    "    sgld_noise_std = 0.01\n",
    "    SAVE_VERSION = 'ebm-v1' \n",
    "    \n",
    "    ## data directory\n",
    "    print('Load MNIST dataset...')\n",
    "    DATA_DIR = '/home/hao/Research/sebm_data/'\n",
    "    train_data, test_data = load_data(DATA_DIR, batch_size)\n",
    "    \n",
    "    print('Initialize energy function and optimizer...')\n",
    "    ef = Energy_function(pixels_dim, hidden_dim)\n",
    "    if CUDA:\n",
    "        ef.cuda().to(DEVICE)   \n",
    "    optimizer = torch.optim.Adam(list(ef.parameters()), lr=lr, betas=(0.9, 0.99))\n",
    "    \n",
    "    print('Initialize SGLD sampler...')\n",
    "    sgld_sampler = SGLD_sampler(sgld_init_sample_std, sgld_noise_std, CUDA, DEVICE)\n",
    "    \n",
    "    print('Initialize data noise sampler...')\n",
    "    data_noise_sampler = DATA_NOISE_sampler(data_noise_std, CUDA, DEVICE)\n",
    "#     data_noise_sampler = None"
   ]
  },
  {
   "cell_type": "code",
   "execution_count": 2,
   "metadata": {},
   "outputs": [],
   "source": [
    "for b, (images, _) in enumerate(train_data):\n",
    "    break"
   ]
  },
  {
   "cell_type": "code",
   "execution_count": 3,
   "metadata": {},
   "outputs": [],
   "source": [
    "pixels_size = int(images.shape[-1]*images.shape[-2])\n",
    "batch_size = images.shape[0]\n",
    "optimizer.zero_grad()\n",
    "images = images.squeeze(1).view(-1, pixels_size).repeat(sample_size, 1, 1)\n",
    "if CUDA:\n",
    "    images = images.cuda().to(DEVICE)\n",
    "if data_noise_sampler is not None: ## add Gaussian noise to true data images\n",
    "    data_noise = data_noise_sampler.sample(sample_size, batch_size, pixels_size)\n",
    "    assert images.shape == data_noise.shape, \"ERROR! data noise have unexpected shape.\"\n",
    "    images = images + data_noise"
   ]
  },
  {
   "cell_type": "code",
   "execution_count": null,
   "metadata": {},
   "outputs": [],
   "source": []
  },
  {
   "cell_type": "code",
   "execution_count": 4,
   "metadata": {},
   "outputs": [],
   "source": [
    "images.requires_grad = True\n",
    "E = ef.forward(images)\n",
    "E.sum().backward()"
   ]
  },
  {
   "cell_type": "code",
   "execution_count": 9,
   "metadata": {},
   "outputs": [],
   "source": [
    "images = images - (1 / 2) * images.grad + 0.1"
   ]
  },
  {
   "cell_type": "code",
   "execution_count": null,
   "metadata": {},
   "outputs": [],
   "source": []
  },
  {
   "cell_type": "code",
   "execution_count": null,
   "metadata": {},
   "outputs": [],
   "source": []
  }
 ],
 "metadata": {
  "kernelspec": {
   "display_name": "Python 3",
   "language": "python",
   "name": "python3"
  },
  "language_info": {
   "codemirror_mode": {
    "name": "ipython",
    "version": 3
   },
   "file_extension": ".py",
   "mimetype": "text/x-python",
   "name": "python",
   "nbconvert_exporter": "python",
   "pygments_lexer": "ipython3",
   "version": "3.7.3"
  }
 },
 "nbformat": 4,
 "nbformat_minor": 4
}
