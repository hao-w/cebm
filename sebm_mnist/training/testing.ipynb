{
 "cells": [
  {
   "cell_type": "code",
   "execution_count": 1,
   "metadata": {},
   "outputs": [
    {
     "name": "stdout",
     "output_type": "stream",
     "text": [
      "torch: 1.3.0 CUDA: True\n",
      "Load trained energy function...\n",
      "Initialize SGLD sampler...\n"
     ]
    }
   ],
   "source": [
    "%matplotlib inline\n",
    "import matplotlib.pyplot as plt\n",
    "import matplotlib.gridspec as gridspec\n",
    "import torch\n",
    "from sebm_mnist.data import load_data\n",
    "from sebm_mnist.modules.sgld import SGLD_sampler\n",
    "from sebm_mnist.modules.energy_function_anatomy import Energy_function\n",
    "\n",
    "CUDA = torch.cuda.is_available()\n",
    "if CUDA:\n",
    "    DEVICE = torch.device('cuda:0')\n",
    "print('torch:', torch.__version__, 'CUDA:', CUDA)\n",
    "## EBM hyper-parameters\n",
    "sgld_noise_std = 0.001\n",
    "clipping_sgld = False\n",
    "# LOAD_VERSION = 'ebm-lr=5.00E-05-data-std=7.50E-03-sgld-steps=4.00E+01-size=1.00E+00-std=5.00E-03-reg=1.00E-03-clip=False'\n",
    "LOAD_VERSION = 'ebm-lr=5.00E-05-data-std=7.50E-03-sgld-steps=4.00E+01-size=1.00E+00-std=5.00E-03-reg=1.00E-03-clip=False'\n",
    "# LOAD_VERSION = 'ebm-lr=5.00E-05-data-std=1.00E-02-sgld-steps=4.00E+01-size=1.00E+00-std=5.00E-03-reg=1.00E-02-clip=False'\n",
    "print('Load trained energy function...')\n",
    "ef = Energy_function()\n",
    "if CUDA:\n",
    "    ef.cuda().to(DEVICE)   \n",
    "# ef.load_state_dict(torch.load('../weights/ef-%s' % LOAD_VERSION))\n",
    "# for p in ef.parameters():\n",
    "#     p.requires_grad = False\n",
    "print('Initialize SGLD sampler...')\n",
    "sgld_sampler = SGLD_sampler(sgld_noise_std, clipping_sgld, CUDA, DEVICE)"
   ]
  },
  {
   "cell_type": "code",
   "execution_count": 2,
   "metadata": {},
   "outputs": [
    {
     "name": "stdout",
     "output_type": "stream",
     "text": [
      "Load MNIST dataset...\n"
     ]
    }
   ],
   "source": [
    "## data directory\n",
    "print('Load MNIST dataset...')\n",
    "DATA_DIR = '/home/hao/Research/sebm_data/'\n",
    "train_data, test_data = load_data(DATA_DIR, 10)\n",
    "for (images, _) in train_data:\n",
    "    break\n",
    "if CUDA:\n",
    "    images = images.cuda().to(DEVICE)\n",
    "E = ef.forward(images)"
   ]
  },
  {
   "cell_type": "code",
   "execution_count": 3,
   "metadata": {},
   "outputs": [
    {
     "data": {
      "text/plain": [
       "torch.Size([10, 1, 1, 1])"
      ]
     },
     "execution_count": 3,
     "metadata": {},
     "output_type": "execute_result"
    }
   ],
   "source": [
    "E.shape"
   ]
  },
  {
   "cell_type": "code",
   "execution_count": null,
   "metadata": {},
   "outputs": [],
   "source": [
    "visual_sample_size = 10\n",
    "ebm_images = sgld_sampler.sgld_update(ef=ef, \n",
    "                                      batch_size=visual_sample_size, \n",
    "                                      pixels_size=28, \n",
    "                                      num_steps=1000, \n",
    "                                      step_size=1,\n",
    "                                      buffer_size=None,\n",
    "                                      buffer_percent=None,\n",
    "                                      persistent=False)\n",
    "ebm_images = ebm_images.squeeze(0).cpu().view(visual_sample_size, 28, 28)\n",
    "ebm_images = torch.clamp(ebm_images, min=-1, max=1) * 0.5 + 0.5"
   ]
  },
  {
   "cell_type": "code",
   "execution_count": null,
   "metadata": {},
   "outputs": [],
   "source": [
    "gs = gridspec.GridSpec(int(visual_sample_size/10), 10)\n",
    "gs.update(left=0.0 , bottom=0.0, right=1.0, top=1.0, wspace=0, hspace=0)\n",
    "fig = plt.figure(figsize=(10, 10*int(visual_sample_size/10)/ 10))\n",
    "for i in range(visual_sample_size):\n",
    "    ax = fig.add_subplot(gs[int(i/10), i%10])\n",
    "    ax.imshow(ebm_images[i], cmap='gray', vmin=0, vmax=1.0)\n",
    "    ax.set_xticks([])\n",
    "    ax.set_yticks([])\n",
    "# plt.savefig('ghost.svg')"
   ]
  },
  {
   "cell_type": "code",
   "execution_count": null,
   "metadata": {},
   "outputs": [],
   "source": []
  },
  {
   "cell_type": "code",
   "execution_count": null,
   "metadata": {},
   "outputs": [],
   "source": []
  },
  {
   "cell_type": "code",
   "execution_count": null,
   "metadata": {},
   "outputs": [],
   "source": []
  }
 ],
 "metadata": {
  "kernelspec": {
   "display_name": "Python 3",
   "language": "python",
   "name": "python3"
  },
  "language_info": {
   "codemirror_mode": {
    "name": "ipython",
    "version": 3
   },
   "file_extension": ".py",
   "mimetype": "text/x-python",
   "name": "python",
   "nbconvert_exporter": "python",
   "pygments_lexer": "ipython3",
   "version": "3.7.3"
  }
 },
 "nbformat": 4,
 "nbformat_minor": 4
}
