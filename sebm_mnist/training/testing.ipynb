{
 "cells": [
  {
   "cell_type": "code",
   "execution_count": 1,
   "metadata": {},
   "outputs": [
    {
     "name": "stdout",
     "output_type": "stream",
     "text": [
      "torch: 1.3.0 CUDA: True\n",
      "Load trained energy function...\n",
      "Initialize SGLD sampler...\n"
     ]
    }
   ],
   "source": [
    "%matplotlib inline\n",
    "import matplotlib.pyplot as plt\n",
    "import matplotlib.gridspec as gridspec\n",
    "import torch\n",
    "from sebm_mnist.data import load_data\n",
    "from sebm_mnist.modules.sgld import SGLD_sampler\n",
    "from sebm_mnist.modules.energy_function_cnn import Energy_function\n",
    "\n",
    "CUDA = torch.cuda.is_available()\n",
    "if CUDA:\n",
    "    DEVICE = torch.device('cuda:0')\n",
    "print('torch:', torch.__version__, 'CUDA:', CUDA)\n",
    "## model hyper-parameters\n",
    "# hidden_dim = 1024\n",
    "# pixels_dim = 28*28\n",
    "## EBM hyper-parameters\n",
    "sgld_init_sample_std = 0.1\n",
    "sgld_noise_std = 0.0075\n",
    "LOAD_VERSION = 'ebm-cnn-v1' \n",
    "print('Load trained energy function...')\n",
    "ef = Energy_function()\n",
    "if CUDA:\n",
    "    ef.cuda().to(DEVICE)   \n",
    "# ef.load_state_dict(torch.load('../weights/ef-%s' % LOAD_VERSION))\n",
    "# for p in ef.parameters():\n",
    "#     p.requires_grad = False\n",
    "print('Initialize SGLD sampler...')\n",
    "sgld_sampler = SGLD_sampler(sgld_init_sample_std, sgld_noise_std, CUDA, DEVICE)"
   ]
  },
  {
   "cell_type": "code",
   "execution_count": 5,
   "metadata": {},
   "outputs": [
    {
     "ename": "TypeError",
     "evalue": "__init__() takes 1 positional argument but 2 were given",
     "output_type": "error",
     "traceback": [
      "\u001b[0;31m---------------------------------------------------------------------------\u001b[0m",
      "\u001b[0;31mTypeError\u001b[0m                                 Traceback (most recent call last)",
      "\u001b[0;32m<ipython-input-5-4a478b866bd8>\u001b[0m in \u001b[0;36m<module>\u001b[0;34m\u001b[0m\n\u001b[1;32m      1\u001b[0m \u001b[0ma\u001b[0m \u001b[0;34m=\u001b[0m \u001b[0mtorch\u001b[0m\u001b[0;34m.\u001b[0m\u001b[0mrandn\u001b[0m\u001b[0;34m(\u001b[0m\u001b[0;36m5\u001b[0m\u001b[0;34m,\u001b[0m\u001b[0;36m4\u001b[0m\u001b[0;34m)\u001b[0m\u001b[0;34m\u001b[0m\u001b[0;34m\u001b[0m\u001b[0m\n\u001b[0;32m----> 2\u001b[0;31m \u001b[0mtorch\u001b[0m\u001b[0;34m.\u001b[0m\u001b[0mnn\u001b[0m\u001b[0;34m.\u001b[0m\u001b[0mSigmoid\u001b[0m\u001b[0;34m(\u001b[0m\u001b[0ma\u001b[0m\u001b[0;34m)\u001b[0m\u001b[0;34m\u001b[0m\u001b[0;34m\u001b[0m\u001b[0m\n\u001b[0m",
      "\u001b[0;31mTypeError\u001b[0m: __init__() takes 1 positional argument but 2 were given"
     ]
    }
   ],
   "source": [
    "a = torch.randn(5,4)\n",
    "torch.nn.Sigmoid(a)"
   ]
  },
  {
   "cell_type": "code",
   "execution_count": 2,
   "metadata": {},
   "outputs": [
    {
     "name": "stdout",
     "output_type": "stream",
     "text": [
      "Load MNIST dataset...\n"
     ]
    }
   ],
   "source": [
    "    ## data directory\n",
    "    print('Load MNIST dataset...')\n",
    "    DATA_DIR = '/home/hao/Research/sebm_data/'\n",
    "    train_data, test_data = load_data(DATA_DIR, 10)\n",
    "    "
   ]
  },
  {
   "cell_type": "code",
   "execution_count": 3,
   "metadata": {},
   "outputs": [
    {
     "data": {
      "text/plain": [
       "torch.Size([10, 64, 12, 12])"
      ]
     },
     "execution_count": 3,
     "metadata": {},
     "output_type": "execute_result"
    }
   ],
   "source": [
    "for (images, _) in train_data:\n",
    "    break\n",
    "if CUDA:\n",
    "    images = images.cuda().to(DEVICE)\n",
    "Ex = ef.forward(images)\n",
    "Ex.shape"
   ]
  },
  {
   "cell_type": "code",
   "execution_count": null,
   "metadata": {},
   "outputs": [],
   "source": [
    "\n"
   ]
  },
  {
   "cell_type": "code",
   "execution_count": null,
   "metadata": {},
   "outputs": [],
   "source": [
    "visual_sample_size = 50\n",
    "ebm_images = sgld_sampler.sgld_update(ef=ef, \n",
    "                                      sample_size=1, \n",
    "                                      batch_size=visual_sample_size, \n",
    "                                      pixels_size=784, \n",
    "                                      num_steps=1000, \n",
    "                                      step_size=2,\n",
    "                                      buffer_size=None,\n",
    "                                      buffer_percent=None,\n",
    "                                      persistent=False)\n",
    "ebm_images = ebm_images.squeeze(0).cpu().view(visual_sample_size, 28, 28)\n",
    "ebm_images = torch.clamp(ebm_images, min=-1, max=1) * 0.5 + 0.5"
   ]
  },
  {
   "cell_type": "code",
   "execution_count": null,
   "metadata": {},
   "outputs": [],
   "source": [
    "gs = gridspec.GridSpec(int(visual_sample_size/10), 10)\n",
    "gs.update(left=0.0 , bottom=0.0, right=1.0, top=1.0, wspace=0, hspace=0)\n",
    "fig = plt.figure(figsize=(15, 15*int(visual_sample_size/10)/ 10))\n",
    "for i in range(visual_sample_size):\n",
    "    ax = fig.add_subplot(gs[int(i/10), i%10])\n",
    "    ax.imshow(ebm_images[i], cmap='gray', vmin=0, vmax=1.0)\n",
    "    ax.set_xticks([])\n",
    "    ax.set_yticks([])"
   ]
  },
  {
   "cell_type": "code",
   "execution_count": null,
   "metadata": {},
   "outputs": [],
   "source": []
  }
 ],
 "metadata": {
  "kernelspec": {
   "display_name": "Python 3",
   "language": "python",
   "name": "python3"
  },
  "language_info": {
   "codemirror_mode": {
    "name": "ipython",
    "version": 3
   },
   "file_extension": ".py",
   "mimetype": "text/x-python",
   "name": "python",
   "nbconvert_exporter": "python",
   "pygments_lexer": "ipython3",
   "version": "3.7.3"
  }
 },
 "nbformat": 4,
 "nbformat_minor": 4
}
