{
 "cells": [
  {
   "cell_type": "code",
   "execution_count": 3,
   "metadata": {},
   "outputs": [
    {
     "name": "stdout",
     "output_type": "stream",
     "text": [
      "torch: 1.3.0 CUDA: True\n",
      "Load trained energy function...\n",
      "| Wide-Resnet 28x10\n",
      "Initialize SGLD sampler...\n"
     ]
    }
   ],
   "source": [
    "%matplotlib inline\n",
    "import matplotlib.pyplot as plt\n",
    "import matplotlib.gridspec as gridspec\n",
    "import torch\n",
    "from vanilla.data import load_mnist\n",
    "from vanilla.sgld import SGLD_sampler\n",
    "from vanilla.nets.energy_function_jem_wrn_28_10 import Wide_ResNet\n",
    "\n",
    "CUDA = torch.cuda.is_available()\n",
    "if CUDA:\n",
    "    DEVICE = torch.device('cuda:0')\n",
    "print('torch:', torch.__version__, 'CUDA:', CUDA)\n",
    "## EBM hyper-parameters\n",
    "sgld_noise_std = 3e-2\n",
    "LOAD_VERSION = 'mnist-'\n",
    "print('Load trained energy function...')\n",
    "ef = Wide_ResNet(depth=28, widen_factor=10)\n",
    "if CUDA:\n",
    "    ef.cuda().to(DEVICE)   \n",
    "# ef.load_state_dict(torch.load('../weights/ef-%s' % LOAD_VERSION))\n",
    "# for p in ef.parameters():\n",
    "#     p.requires_grad = False\n",
    "print('Initialize SGLD sampler...')\n",
    "sgld_sampler = SGLD_sampler(sgld_noise_std, False, CUDA, DEVICE)"
   ]
  },
  {
   "cell_type": "code",
   "execution_count": null,
   "metadata": {},
   "outputs": [],
   "source": [
    "visual_sample_size = 200\n",
    "pixels_size = 32\n",
    "ebm_images = sgld_sampler.sgld_update(ef=ef, \n",
    "                                      batch_size=visual_sample_size, \n",
    "                                      pixels_size=pixels_size, \n",
    "                                      num_steps=100, \n",
    "                                      step_size=1,\n",
    "                                      buffer_size=None,\n",
    "                                      buffer_percent=None,\n",
    "                                      persistent=False)\n",
    "ebm_images = ebm_images.squeeze(0).cpu().view(visual_sample_size, pixels_size, pixels_size)\n",
    "ebm_images = torch.clamp(ebm_images, min=-1, max=1) * 0.5 + 0.5"
   ]
  },
  {
   "cell_type": "code",
   "execution_count": null,
   "metadata": {},
   "outputs": [],
   "source": [
    "gs = gridspec.GridSpec(int(visual_sample_size/10), 10)\n",
    "gs.update(left=0.0 , bottom=0.0, right=1.0, top=1.0, wspace=0, hspace=0)\n",
    "fig = plt.figure(figsize=(10, 10*int(visual_sample_size/10)/ 10))\n",
    "for i in range(visual_sample_size):\n",
    "    ax = fig.add_subplot(gs[int(i/10), i%10])\n",
    "    ax.imshow(ebm_images[i], cmap='gray', vmin=0, vmax=1.0)\n",
    "    ax.set_xticks([])\n",
    "    ax.set_yticks([])\n",
    "# plt.savefig('ghost.svg')"
   ]
  },
  {
   "cell_type": "code",
   "execution_count": null,
   "metadata": {},
   "outputs": [],
   "source": []
  },
  {
   "cell_type": "code",
   "execution_count": null,
   "metadata": {},
   "outputs": [],
   "source": []
  },
  {
   "cell_type": "code",
   "execution_count": null,
   "metadata": {},
   "outputs": [],
   "source": []
  }
 ],
 "metadata": {
  "kernelspec": {
   "display_name": "Python 3",
   "language": "python",
   "name": "python3"
  },
  "language_info": {
   "codemirror_mode": {
    "name": "ipython",
    "version": 3
   },
   "file_extension": ".py",
   "mimetype": "text/x-python",
   "name": "python",
   "nbconvert_exporter": "python",
   "pygments_lexer": "ipython3",
   "version": "3.7.3"
  }
 },
 "nbformat": 4,
 "nbformat_minor": 4
}
