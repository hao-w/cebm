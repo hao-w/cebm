{
 "cells": [
  {
   "cell_type": "code",
   "execution_count": 5,
   "metadata": {},
   "outputs": [
    {
     "name": "stdout",
     "output_type": "stream",
     "text": [
      "Init sgld sampler..\n",
      "Init EBM..\n",
      "Loading trained weights..\n"
     ]
    },
    {
     "data": {
      "text/plain": [
       "<All keys matched successfully>"
      ]
     },
     "execution_count": 5,
     "metadata": {},
     "output_type": "execute_result"
    }
   ],
   "source": [
    "%matplotlib inline\n",
    "import torch\n",
    "import matplotlib.pyplot as plt\n",
    "import matplotlib.gridspec as gridspec\n",
    "from sebm.cebm_sgld import SGLD_sampler\n",
    "from sebm.models import CEBM_1ss\n",
    "\n",
    "device = torch.device('cuda:0')\n",
    "LOAD_VERSION = 'cebm-dataset=mnist-seed=1-lr=0.0001-latentdim=128-data_noise_std=0.01-sgld_noise_std=0.0075-sgld_lr=2.0-sgld_num_steps=50-buffer_size=5000-buffer_percent=0.95-reg_alpha=0.001-act=Swish-arch=simplenet'\n",
    "print('Init sgld sampler..')\n",
    "sgld_sampler = SGLD_sampler(noise_std=1e-3,\n",
    "                            lr=2.0,\n",
    "                            pixel_size=28,\n",
    "                            buffer_size=5000,\n",
    "                            buffer_percent=0.95,\n",
    "                            grad_clipping=False,\n",
    "                            device=device)\n",
    "print('Init EBM..')\n",
    "ebm = CEBM_1ss(arch='simplenet',\n",
    "              optimize_priors=False,\n",
    "              device=device,\n",
    "              im_height=28, \n",
    "              im_width=28, \n",
    "              input_channels=1, \n",
    "              channels=[64,64,32,32], \n",
    "              kernels=[3,4,4,4], \n",
    "              strides=[1,2,2,2], \n",
    "              paddings=[1,1,1,1], \n",
    "              hidden_dim=[128],\n",
    "              latent_dim=128,\n",
    "              activation='Swish')\n",
    "ebm = ebm.cuda().to(device)\n",
    "print('Loading trained weights..')\n",
    "ebm.load_state_dict(torch.load('../weights/ebm-%s' % LOAD_VERSION))"
   ]
  },
  {
   "cell_type": "code",
   "execution_count": 6,
   "metadata": {},
   "outputs": [],
   "source": [
    "test_batch_size = 10\n",
    "images_ebm = sgld_sampler.sgld_update(ebm=ebm, \n",
    "                                      batch_size=test_batch_size, \n",
    "                                      pixels_size=28, \n",
    "                                      num_steps=1000,\n",
    "                                      persistent=False)\n",
    "images_ebm = images_ebm.squeeze().cpu().detach()\n",
    "images_ebm = torch.clamp(images_ebm, min=-1, max=1) * 0.5 + 0.5"
   ]
  },
  {
   "cell_type": "code",
   "execution_count": 7,
   "metadata": {},
   "outputs": [],
   "source": [
    "def plot_samples(test_batch_size):\n",
    "    gs = gridspec.GridSpec(int(test_batch_size/10), 10)\n",
    "    gs.update(left=0.0 , bottom=0.0, right=1.0, top=1.0, wspace=0, hspace=0)\n",
    "    fig = plt.figure(figsize=(10, 10*int(test_batch_size/10)/ 10))\n",
    "    for i in range(test_batch_size):\n",
    "        ax = fig.add_subplot(gs[int(i/10), i%10])\n",
    "        ax.imshow(images_ebm[i], cmap='gray', vmin=0, vmax=1.0)\n",
    "        ax.set_xticks([])\n",
    "        ax.set_yticks([])"
   ]
  },
  {
   "cell_type": "code",
   "execution_count": 8,
   "metadata": {},
   "outputs": [
    {
     "data": {
      "image/png": "[encoded data removed]",
      "text/plain": [
       "<Figure size 720x72 with 10 Axes>"
      ]
     },
     "metadata": {},
     "output_type": "display_data"
    }
   ],
   "source": [
    "plot_samples(test_batch_size)\n"
   ]
  },
  {
   "cell_type": "code",
   "execution_count": 35,
   "metadata": {},
   "outputs": [
    {
     "name": "stdout",
     "output_type": "stream",
     "text": [
      "CPU times: user 0 ns, sys: 69 µs, total: 69 µs\n",
      "Wall time: 74.9 µs\n"
     ]
    }
   ],
   "source": [
    "def Ex(x):\n",
    "    \"\"\"\n",
    "    define Ex as a quadratic function\n",
    "    \"\"\"\n",
    "    return x**2\n",
    "\n",
    "Xs = []\n",
    "num_steps = 2\n",
    "lr = 1e-2\n",
    "epsilon = 1e-3\n",
    "x = torch.ones(1) * 250\n",
    "for i in range(num_steps):\n",
    "    x.requires_grad = True\n",
    "    grads = torch.autograd.grad(Ex(x), inputs=x)[0]\n",
    "#     print('step=%d, x=%.4f, grad=%.4f, true_grad=%.4f' % (i+1, x, grads, 2*x))\n",
    "    x = (x - (lr) * grads + torch.randn_like(grads) * epsilon).detach()\n",
    "    Xs.append(x.unsqueeze(0))\n",
    "%time Xs = torch.cat(Xs, 0)"
   ]
  },
  {
   "cell_type": "code",
   "execution_count": 37,
   "metadata": {},
   "outputs": [
    {
     "data": {
      "text/plain": [
       "False"
      ]
     },
     "execution_count": 37,
     "metadata": {},
     "output_type": "execute_result"
    }
   ],
   "source": [
    "Xs.detach().requires_grad"
   ]
  },
  {
   "cell_type": "code",
   "execution_count": 25,
   "metadata": {},
   "outputs": [
    {
     "data": {
      "text/plain": [
       "[<matplotlib.lines.Line2D at 0x7f7b413022e8>]"
      ]
     },
     "execution_count": 25,
     "metadata": {},
     "output_type": "execute_result"
    },
    {
     "data": {
      "image/png": "[encoded data removed]",
      "text/plain": [
       "<Figure size 432x288 with 1 Axes>"
      ]
     },
     "metadata": {
      "needs_background": "light"
     },
     "output_type": "display_data"
    }
   ],
   "source": [
    "%matplotlib inline\n",
    "import matplotlib.pyplot as plt\n",
    "plt.plot(Xs.detach())"
   ]
  },
  {
   "cell_type": "code",
   "execution_count": 53,
   "metadata": {},
   "outputs": [
    {
     "data": {
      "text/plain": [
       "tensor([8, 3, 8])"
      ]
     },
     "execution_count": 53,
     "metadata": {},
     "output_type": "execute_result"
    }
   ],
   "source": [
    "from torch.distributions.uniform import Uniform\n",
    "buffer_size = 10\n",
    "batch_size = 3\n",
    "pixel_size = 2\n",
    "init_dist = Uniform(-1 * torch.ones((pixel_size, pixel_size)),\n",
    "                                   torch.ones((pixel_size,pixel_size)))\n",
    "buffer = init_dist.sample((buffer_size, 1, ))\n",
    "inds = torch.randint(0, buffer.shape[0], (batch_size, ))\n",
    "inds"
   ]
  },
  {
   "cell_type": "code",
   "execution_count": 54,
   "metadata": {},
   "outputs": [
    {
     "data": {
      "text/plain": [
       "tensor([[[[ 0.5515, -0.5823],\n",
       "          [-0.0240, -0.1041]]],\n",
       "\n",
       "\n",
       "        [[[ 0.1475,  0.7267],\n",
       "          [-0.9403,  0.3830]]],\n",
       "\n",
       "\n",
       "        [[[ 0.5515, -0.5823],\n",
       "          [-0.0240, -0.1041]]]])"
      ]
     },
     "execution_count": 54,
     "metadata": {},
     "output_type": "execute_result"
    }
   ],
   "source": [
    "buffer[inds]"
   ]
  },
  {
   "cell_type": "code",
   "execution_count": 75,
   "metadata": {},
   "outputs": [
    {
     "data": {
      "text/plain": [
       "tensor([[[[0.]]],\n",
       "\n",
       "\n",
       "        [[[0.]]],\n",
       "\n",
       "\n",
       "        [[[1.]]]])"
      ]
     },
     "execution_count": 75,
     "metadata": {},
     "output_type": "execute_result"
    }
   ],
   "source": [
    "choose_random = (torch.rand(batch_size) < 0.95).float()[:, None, None, None]\n",
    "choose_random"
   ]
  },
  {
   "cell_type": "code",
   "execution_count": 76,
   "metadata": {},
   "outputs": [
    {
     "ename": "IndentationError",
     "evalue": "expected an indented block (<ipython-input-76-9eca7843f9b3>, line 3)",
     "output_type": "error",
     "traceback": [
      "\u001b[0;36m  File \u001b[0;32m\"<ipython-input-76-9eca7843f9b3>\"\u001b[0;36m, line \u001b[0;32m3\u001b[0m\n\u001b[0;31m    e;se\u001b[0m\n\u001b[0m    ^\u001b[0m\n\u001b[0;31mIndentationError\u001b[0m\u001b[0;31m:\u001b[0m expected an indented block\n"
     ]
    }
   ],
   "source": [
    "if buffer_dup_sampling:\n",
    "    # JEM and openAI's sampling procedure\n",
    "    if buffer_inplace_refine:\n",
    "        # JEM's refine procedure\n",
    "    else:\n",
    "        # openAI's refine procedure\n",
    "        \n",
    "else:\n",
    "    # init in advance\n",
    "    # hao's code"
   ]
  },
  {
   "cell_type": "code",
   "execution_count": null,
   "metadata": {},
   "outputs": [],
   "source": [
    "if buffer_inited:\n",
    "    if buffer_dup_allowed:\n",
    "        # JEM's \n",
    "    \n",
    "else:\n",
    "    # openAI's"
   ]
  }
 ],
 "metadata": {
  "kernelspec": {
   "display_name": "Python 3",
   "language": "python",
   "name": "python3"
  },
  "language_info": {
   "codemirror_mode": {
    "name": "ipython",
    "version": 3
   },
   "file_extension": ".py",
   "mimetype": "text/x-python",
   "name": "python",
   "nbconvert_exporter": "python",
   "pygments_lexer": "ipython3",
   "version": "3.7.3"
  }
 },
 "nbformat": 4,
 "nbformat_minor": 4
}
