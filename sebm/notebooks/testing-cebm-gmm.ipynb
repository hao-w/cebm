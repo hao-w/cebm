{
 "cells": [
  {
   "cell_type": "code",
   "execution_count": null,
   "metadata": {},
   "outputs": [],
   "source": [
    "%matplotlib inline\n",
    "import torch\n",
    "from sebm.sgld import SGLD_sampler\n",
    "from sebm.models import CEBM_GMM_2ss\n",
    "dataset =  'mnist' # 'svhn' # 'cifar10' # 'mnist' #  'flowers102' #\n",
    "if dataset == 'mnist' or dataset =='fashionmnist':\n",
    "    input_channels, im_height, im_width = 1, 28, 28\n",
    "else:\n",
    "    input_channels, im_height, im_width = 3, 32, 32\n",
    "device = torch.device('cuda:1')\n",
    "arch =  'simplenet2' \n",
    "ss = 2\n",
    "seed = 1\n",
    "lr, reg_alpha = 1e-4, 1e-1\n",
    "optimize_priors = False\n",
    "if dataset == 'cifar10' or dataset == 'svhn':\n",
    "    channels, kernels, strides, paddings =[64,128,256,512], [3,4,4,4], [1,2,2,2], [1,1,1,1]\n",
    "    hidden_dim, latent_dim, activation = [1024], 128, 'Swish'\n",
    "elif dataset == 'mnist' or dataset == 'fashionmnist':\n",
    "    channels, kernels, strides, paddings =[64,64,32,32], [3,4,4,4], [1,2,2,2], [1,1,1,1]\n",
    "    hidden_dim, latent_dim, activation = [128], 128, 'Swish'\n",
    "else:\n",
    "    raise NotImplementError\n",
    "\n",
    "data_noise_std = 3e-2\n",
    "sgld_noise_std, sgld_lr, sgld_num_steps = 7.5e-3, 2.0, 60\n",
    "buffer_init, buffer_dup_allowed = True, True\n",
    "data_dir = '../../../sebm_data/'\n",
    "load_version = 'cebm_gmm_2ss-out=-1-d=%s-seed=%d-lr=%s-zd=%d-d_ns=%s-sgld-ns=%s-lr=%s-steps=%s-reg=%s-act=%s-arch=%s' % (dataset, seed, lr, latent_dim, data_noise_std, sgld_noise_std, sgld_lr, sgld_num_steps,  reg_alpha, activation, arch)\n",
    "if arch == 'simplenet2':\n",
    "    ebm = CEBM_GMM_2ss(K=10,\n",
    "                    arch=arch,\n",
    "                    optimize_priors=optimize_priors,\n",
    "                    device=device,\n",
    "                    im_height=im_height, \n",
    "                    im_width=im_width, \n",
    "                    input_channels=input_channels, \n",
    "                    channels=channels, \n",
    "                    kernels=kernels, \n",
    "                    strides=strides, \n",
    "                    paddings=paddings, \n",
    "                    hidden_dim=hidden_dim,\n",
    "                    latent_dim=latent_dim,\n",
    "                    activation=activation)\n",
    "else:\n",
    "    raise NotImplementError\n",
    "ebm = ebm.cuda().to(device)\n",
    "print('Loading trained weights..')\n",
    "weights = torch.load('../weights/cp-%s' % load_version)\n",
    "ebm.load_state_dict(weights['model_state_dict'])\n",
    "ebm.prior_nat1 = weights['prior_nat1'].to(device)\n",
    "ebm.prior_nat2 = weights['prior_nat2'].to(device)"
   ]
  },
  {
   "cell_type": "code",
   "execution_count": null,
   "metadata": {},
   "outputs": [],
   "source": [
    "from sebm.eval import *\n",
    "evaluator = Evaluator_EBM_GMM(ebm, device, dataset, data_dir, data_noise_std=1e-2)"
   ]
  },
  {
   "cell_type": "code",
   "execution_count": null,
   "metadata": {},
   "outputs": [],
   "source": [
    "# num_shots = 100\n",
    "# num_runs = 10\n",
    "# Accu = 0.0\n",
    "# for i in range(num_runs):\n",
    "#     print('dataset=%s, run=%d / %d' % (dataset, i+1, num_runs))\n",
    "#     data = torch.load('/home/hao/Research/sebm_data/fewshots/%s/%d/%d.pt' % (dataset, num_shots*10, i+1))\n",
    "#     accu = train_logistic_classifier(evaluator, train_data=None)\n",
    "#     Accu += accu\n",
    "# Accu/= num_runs\n",
    "# Accu"
   ]
  },
  {
   "cell_type": "code",
   "execution_count": null,
   "metadata": {},
   "outputs": [],
   "source": [
    "# ys_test, pred_ys_test = similarity_ebm_z_space(evaluator, \n",
    "#                                                train_batch_size=5000, \n",
    "#                                                test_batch_size=5000,\n",
    "#                                                model_name='cebm')"
   ]
  },
  {
   "cell_type": "code",
   "execution_count": null,
   "metadata": {},
   "outputs": [],
   "source": [
    "# ys_test, pred_ys_test = evaluator.similarity_ebm_density_space(train_batch_size=1000, test_batch_size=1000)"
   ]
  },
  {
   "cell_type": "code",
   "execution_count": null,
   "metadata": {},
   "outputs": [],
   "source": [
    "# scores = evaluator.oodauc(dataset_ood='fashionmnist', score='marginal')\n",
    "# scores"
   ]
  },
  {
   "cell_type": "code",
   "execution_count": null,
   "metadata": {},
   "outputs": [],
   "source": [
    "# from sebm.eval import draw_one_batch\n",
    "# dataset = 'svhn'\n",
    "# list_num_shots = [1, 10, 100]\n",
    "# for num_shots in list_num_shots:\n",
    "#     print('num of shots=%d' % num_shots)\n",
    "#     for i in range(10):\n",
    "#         images, labels = draw_one_batch(num_shots, \n",
    "#                                          dataset, \n",
    "#                                          data_dir, \n",
    "#                                          train=True, \n",
    "#                                          normalize=False, \n",
    "#                                          flatten=False)\n",
    "#         data = {'images': images, 'labels' : labels}\n",
    "#         torch.save(data, '/home/hao/Research/sebm_data/fewshots/%s/%d/%d.pt' % (dataset, num_shots*10, i+1))"
   ]
  },
  {
   "cell_type": "code",
   "execution_count": null,
   "metadata": {},
   "outputs": [],
   "source": [
    "# logging_interval = 200 # None otherwise\n",
    "# test_batch_size = 10\n",
    "# init_samples, labels = draw_one_batch(1, dataset, data_dir, train=False, normalize=True, flatten=False)\n",
    "\n",
    "# images_ebm = evaluator.uncond_sampling_ll(sample_size=3,\n",
    "#                                           batch_size=test_batch_size, \n",
    "#                                           sgld_steps=2000,\n",
    "#                                           sgld_lr=2.0,\n",
    "#                                           sgld_noise_std=1e-3,\n",
    "#                                           init_images=init_samples,\n",
    "#                                           grad_clipping=False,\n",
    "#                                           logging_interval=None)\n",
    "# nearestneighbours = evaluator.nn_latents(images_ebm)\n",
    "# plot_evolving_samples(images_ebm, nearestneighbours, fs=8, save_name=None)"
   ]
  },
  {
   "cell_type": "code",
   "execution_count": null,
   "metadata": {},
   "outputs": [],
   "source": [
    "# evaluator.plot_all_samples(list_images=images_ebm, fs=1.0)"
   ]
  },
  {
   "cell_type": "code",
   "execution_count": null,
   "metadata": {},
   "outputs": [],
   "source": [
    "images_ebm = evaluator.uncond_sampling(batch_size=100, \n",
    "                                          sgld_steps=1000,\n",
    "                                          sgld_lr=2.0,\n",
    "                                          sgld_noise_std=1e-3,\n",
    "                                          grad_clipping=False,\n",
    "                                          init_samples=None,\n",
    "                                          logging_interval=None)\n",
    "evaluator.plot_final_samples(images_ebm, fs=5, save=False)"
   ]
  },
  {
   "cell_type": "code",
   "execution_count": null,
   "metadata": {},
   "outputs": [],
   "source": [
    "# evaluator.plot_all_samples(images_ebm, fs=6, save=True)"
   ]
  },
  {
   "cell_type": "code",
   "execution_count": null,
   "metadata": {},
   "outputs": [],
   "source": [
    "# evaluator.plot_oods(dataset='mnist', train=False, fs=4, save=False)"
   ]
  },
  {
   "cell_type": "code",
   "execution_count": null,
   "metadata": {},
   "outputs": [],
   "source": [
    "# train_logistic_classifier(evaluator)"
   ]
  },
  {
   "cell_type": "code",
   "execution_count": null,
   "metadata": {},
   "outputs": [],
   "source": [
    "zs, ys = evaluator.compute_tsne()\n",
    "evaluator.plot_tsne(zs, ys, save=True)"
   ]
  },
  {
   "cell_type": "code",
   "execution_count": null,
   "metadata": {},
   "outputs": [],
   "source": []
  },
  {
   "cell_type": "code",
   "execution_count": null,
   "metadata": {},
   "outputs": [],
   "source": []
  }
 ],
 "metadata": {
  "kernelspec": {
   "display_name": "Python 3",
   "language": "python",
   "name": "python3"
  },
  "language_info": {
   "codemirror_mode": {
    "name": "ipython",
    "version": 3
   },
   "file_extension": ".py",
   "mimetype": "text/x-python",
   "name": "python",
   "nbconvert_exporter": "python",
   "pygments_lexer": "ipython3",
   "version": "3.7.3"
  }
 },
 "nbformat": 4,
 "nbformat_minor": 4
}
