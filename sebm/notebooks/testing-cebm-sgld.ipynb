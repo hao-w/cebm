{
 "cells": [
  {
   "cell_type": "code",
   "execution_count": 7,
   "metadata": {
    "collapsed": true,
    "jupyter": {
     "outputs_hidden": true
    }
   },
   "outputs": [
    {
     "name": "stdout",
     "output_type": "stream",
     "text": [
      "Initialize Model=CEBM_2ss...\n",
      "Loading trained weights..\n"
     ]
    },
    {
     "data": {
      "text/plain": [
       "<All keys matched successfully>"
      ]
     },
     "execution_count": 7,
     "metadata": {},
     "output_type": "execute_result"
    }
   ],
   "source": [
    "%matplotlib inline\n",
    "import torch\n",
    "from sebm.cebm_sgld import SGLD_sampler, init_cebm\n",
    "dataset =  'cifar10' # 'svhn' # 'cifar10' # 'mnist' #  'flowers102' #\n",
    "if dataset == 'mnist' or dataset =='fashionmnist':\n",
    "    input_channels, im_height, im_width = 1, 28, 28\n",
    "else:\n",
    "    input_channels, im_height, im_width = 3, 32, 32\n",
    "device = torch.device('cuda:1')\n",
    "arch =  'simplenet2' # 'wresnet' # 'simplenet'\n",
    "depth, width = 28, 10\n",
    "heldout = -1\n",
    "ss = 2\n",
    "seed = 1\n",
    "lr = 5e-5\n",
    "optimize_priors = False\n",
    "channels, kernels, strides, paddings =[64,64,32,32], [3,4,4,4], [1,2,2,2], [1,1,1,1]\n",
    "hidden_dim, latent_dim = [128], 128\n",
    "data_noise_std = 3e-2\n",
    "sgld_noise_std, sgld_lr, sgld_num_steps = 7.5e-3, 2.0, 60\n",
    "reg_alpha =  5e-3\n",
    "activation = 'Swish'\n",
    "buffer_init, buffer_dup_allowed = True, True\n",
    "data_dir = '../../../sebm_data/'\n",
    "load_version = 'cebm_%sss-out=%s-d=%s-seed=%d-lr=%s-zd=%d-d_ns=%s-sgld-ns=%s-lr=%s-steps=%s-reg=%s-act=%s-arch=%s' % (ss, heldout, dataset, seed, lr, latent_dim, data_noise_std, sgld_noise_std, sgld_lr, sgld_num_steps,  reg_alpha, activation, arch)\n",
    "if arch == 'wresnet':\n",
    "    ebm = init_cebm(arch=arch,\n",
    "                    ss=ss,\n",
    "                    optimize_priors=optimize_priors,\n",
    "                    device=device,\n",
    "                    depth=depth,\n",
    "                    width=width,\n",
    "                    hidden_dim=hidden_dim,\n",
    "                    latent_dim=latent_dim,\n",
    "                    act=activation)\n",
    "elif arch == 'simplenet' or arch == 'simplenet2':\n",
    "    ebm = init_cebm(arch=arch,\n",
    "                    ss=ss,\n",
    "                    optimize_priors=optimize_priors,\n",
    "                    device=device,\n",
    "                    im_height=im_height, \n",
    "                    im_width=im_width, \n",
    "                    input_channels=input_channels, \n",
    "                    channels=channels, \n",
    "                    kernels=kernels, \n",
    "                    strides=strides, \n",
    "                    paddings=paddings, \n",
    "                    hidden_dim=hidden_dim,\n",
    "                    latent_dim=latent_dim,\n",
    "                    activation=activation)\n",
    "ebm = ebm.cuda().to(device)\n",
    "print('Loading trained weights..')\n",
    "ebm.load_state_dict(torch.load('../weights/cp-%s' % load_version)['model_state_dict'])"
   ]
  },
  {
   "cell_type": "code",
   "execution_count": 8,
   "metadata": {},
   "outputs": [],
   "source": [
    "from sebm.eval import Evaluator_EBM\n",
    "evaluator = Evaluator_EBM(ebm, device, dataset, data_dir, data_noise_std=1e-2)"
   ]
  },
  {
   "cell_type": "code",
   "execution_count": 9,
   "metadata": {},
   "outputs": [],
   "source": [
    "# evaluator.plot_post_under_prior(train=False, density=False) #save_name='cebm_%s' % dataset)"
   ]
  },
  {
   "cell_type": "code",
   "execution_count": 10,
   "metadata": {},
   "outputs": [],
   "source": [
    "# evaluator.train_logistic_classifier()"
   ]
  },
  {
   "cell_type": "code",
   "execution_count": 11,
   "metadata": {},
   "outputs": [],
   "source": [
    "images_ebm, list_samples = evaluator.uncond_sampling(batch_size=100, \n",
    "                                          sgld_steps=1000,\n",
    "                                          sgld_lr=4.0,\n",
    "                                          sgld_noise_std=1e-2,\n",
    "                                          grad_clipping=False)\n",
    "# evaluator.plot_samples(images_ebm, fs=6, save_name='samples')"
   ]
  },
  {
   "cell_type": "code",
   "execution_count": 12,
   "metadata": {},
   "outputs": [],
   "source": [
    "for i in range(list_samples.shape[0]):\n",
    "    evaluator.plot_samples(list_samples[i], fs=6, save_name='cebm_%s_%02d' % (dataset, i+1))"
   ]
  },
  {
   "cell_type": "code",
   "execution_count": null,
   "metadata": {},
   "outputs": [],
   "source": []
  }
 ],
 "metadata": {
  "kernelspec": {
   "display_name": "Python 3",
   "language": "python",
   "name": "python3"
  },
  "language_info": {
   "codemirror_mode": {
    "name": "ipython",
    "version": 3
   },
   "file_extension": ".py",
   "mimetype": "text/x-python",
   "name": "python",
   "nbconvert_exporter": "python",
   "pygments_lexer": "ipython3",
   "version": "3.7.3"
  }
 },
 "nbformat": 4,
 "nbformat_minor": 4
}
