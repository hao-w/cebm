{
 "cells": [
  {
   "cell_type": "code",
   "execution_count": 6,
   "metadata": {},
   "outputs": [
    {
     "name": "stdout",
     "output_type": "stream",
     "text": [
      "Init EBM..\n",
      "Loading trained weights..\n"
     ]
    },
    {
     "data": {
      "text/plain": [
       "<All keys matched successfully>"
      ]
     },
     "execution_count": 6,
     "metadata": {},
     "output_type": "execute_result"
    }
   ],
   "source": [
    "%matplotlib inline\n",
    "import torch\n",
    "from sebm.cebm_sgld import SGLD_sampler\n",
    "from sebm.models import CEBM_1ss, CEBM_2ss\n",
    "\n",
    "dataset = 'mnist'\n",
    "device = torch.device('cuda:0')\n",
    "ss = 2\n",
    "seed = 2\n",
    "lr = 5e-5\n",
    "latent_dim = 10\n",
    "data_noise_std = 3e-2\n",
    "sgld_noise_std = 7.5e-3\n",
    "sgld_num_steps = 50\n",
    "reg_alpha = 1e-3\n",
    "activation = 'Swish'\n",
    "buffer_init = True\n",
    "buffer_dup_allowed = True\n",
    "load_version = 'cebm-ss=%s-dataset=%s-seed=%s-lr=%s-latentdim=%s-data_noise_std=%s-sgld_noise_std=%s-sgld_lr=2.0-sgld_num_steps=%s-buffer_size=5000-buffer_percent=0.95-buffer_init=%s-dup_allowed=%s-reg_alpha=%s-act=%s-arch=simplenet' % (ss, dataset, seed, lr, latent_dim, data_noise_std, sgld_noise_std, sgld_num_steps, buffer_init, buffer_dup_allowed, reg_alpha, activation)\n",
    "\n",
    "print('Init EBM..')\n",
    "ebm = CEBM_2ss(arch='simplenet',\n",
    "               device=device,\n",
    "               optimize_priors=False,\n",
    "               im_height=28, \n",
    "               im_width=28, \n",
    "               input_channels=1, \n",
    "               channels=[64,64,32,32], \n",
    "               kernels=[3,4,4,4], \n",
    "               strides=[1,2,2,2], \n",
    "               paddings=[1,1,1,1], \n",
    "               hidden_dim=[128],\n",
    "               latent_dim=latent_dim,\n",
    "               activation=activation)\n",
    "ebm = ebm.cuda().to(device)\n",
    "print('Loading trained weights..')\n",
    "ebm.load_state_dict(torch.load('../weights/checkpoint-%s' % load_version)['model_state_dict'])"
   ]
  },
  {
   "cell_type": "code",
   "execution_count": 7,
   "metadata": {},
   "outputs": [
    {
     "name": "stdout",
     "output_type": "stream",
     "text": [
      "Init sgld sampler..\n"
     ]
    }
   ],
   "source": [
    "print('Init sgld sampler..')\n",
    "sgld_sampler = SGLD_sampler(device=device,\n",
    "                            noise_std=1e-3,\n",
    "                            lr=6.0,\n",
    "                            pixel_size=28,\n",
    "                            buffer_size=1000,\n",
    "                            buffer_percent=0.95,\n",
    "                            buffer_init=False,\n",
    "                            buffer_dup_allowed=False)\n",
    "\n",
    "test_batch_size = 10\n",
    "images_ebm = sgld_sampler.sample(ebm=ebm, \n",
    "                                      batch_size=test_batch_size, \n",
    "                                      num_steps=1000,\n",
    "                                      pcd=False)"
   ]
  },
  {
   "cell_type": "code",
   "execution_count": 8,
   "metadata": {},
   "outputs": [
    {
     "data": {
      "image/png": "[encoded data removed]",
      "text/plain": [
       "<Figure size 720x72 with 10 Axes>"
      ]
     },
     "metadata": {},
     "output_type": "display_data"
    }
   ],
   "source": [
    "from sebm.eval import plot_samples, compress_tsne, plot_tsne\n",
    "plot_samples(images_ebm)"
   ]
  },
  {
   "cell_type": "code",
   "execution_count": null,
   "metadata": {},
   "outputs": [],
   "source": [
    "data_dir = '../../../sebm_data/'\n",
    "num_classes = 10\n",
    "zs2, ys = compress_tsne(dataset, data_dir, ebm)\n",
    "plot_tsne(num_classes, zs2, ys)"
   ]
  }
 ],
 "metadata": {
  "kernelspec": {
   "display_name": "Python 3",
   "language": "python",
   "name": "python3"
  },
  "language_info": {
   "codemirror_mode": {
    "name": "ipython",
    "version": 3
   },
   "file_extension": ".py",
   "mimetype": "text/x-python",
   "name": "python",
   "nbconvert_exporter": "python",
   "pygments_lexer": "ipython3",
   "version": "3.7.3"
  }
 },
 "nbformat": 4,
 "nbformat_minor": 4
}
