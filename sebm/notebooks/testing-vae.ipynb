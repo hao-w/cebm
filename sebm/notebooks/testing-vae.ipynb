{
 "cells": [
  {
   "cell_type": "code",
   "execution_count": 1,
   "metadata": {},
   "outputs": [
    {
     "name": "stdout",
     "output_type": "stream",
     "text": [
      "Note: downsampling function is Resize(size=1, interpolation=PIL.Image.BILINEAR)\n",
      "Loading trained models...\n"
     ]
    },
    {
     "data": {
      "text/plain": [
       "<All keys matched successfully>"
      ]
     },
     "execution_count": 1,
     "metadata": {},
     "output_type": "execute_result"
    }
   ],
   "source": [
    "%matplotlib inline\n",
    "import torch\n",
    "from sebm.models import Encoder, Decoder\n",
    "from torchvision import datasets, transforms\n",
    "from sebm.data import load_data\n",
    "\n",
    "dataset =  'mnist' # 'svhn' # 'cifar10' # 'mnist' #  'flowers102' #\n",
    "if dataset == 'mnist':\n",
    "    input_channels, im_height, im_width = 1, 28, 28\n",
    "else:\n",
    "    input_channels, im_height, im_width = 3, 32, 32\n",
    "device = torch.device('cuda:1')\n",
    "arch =  'simplenet2' # 'wresnet' # 'simplenet'\n",
    "lr = 1e-4\n",
    "seed = 1\n",
    "latent_dim = 128\n",
    "activation = 'ReLU'\n",
    "reparameterized = True\n",
    "heldout_class = -1\n",
    "load_version = 'vae-out=%s-d=%s-seed=%s-lr=%s-zd=%s-act=%s-arch=%s' % (heldout_class, dataset, seed, lr, latent_dim, activation, arch)\n",
    "data_dir = '/home/hao/Research/sebm_data/'\n",
    "batch_size = 100\n",
    "test_data, _ = load_data(dataset, data_dir, batch_size, train=False, normalize=False)\n",
    "if arch == 'simplenet2':\n",
    "    enc = Encoder(arch=arch,\n",
    "                  reparameterized=reparameterized,\n",
    "                  im_height=im_height, \n",
    "                  im_width=im_width, \n",
    "                  input_channels=input_channels, \n",
    "                  channels=[64,64,32,32], \n",
    "                  kernels=[3,4,4,4], \n",
    "                  strides=[1,2,2,2], \n",
    "                  paddings=[1,1,1,1], \n",
    "                  hidden_dim=[128],\n",
    "                  latent_dim=latent_dim,\n",
    "                  activation=activation)\n",
    "    dec = Decoder(arch=arch,\n",
    "                  device=device,\n",
    "                  input_channels=input_channels, \n",
    "                  channels=[64,64,32,32], \n",
    "                  kernels=[3,4,4,4], \n",
    "                  strides=[1,2,2,2], \n",
    "                  paddings=[1,1,1,1], \n",
    "                  output_paddings=[1,0,0,0], ## TODO: hand-coded for now\n",
    "                  hidden_dim=[128],\n",
    "                  latent_dim=latent_dim,\n",
    "                  output_dim=288, ## TODO: hand-coded for now\n",
    "                  activation=activation)\n",
    "else:\n",
    "    raise NotImplementError\n",
    "enc.cuda().to(device)  \n",
    "dec.cuda().to(device)\n",
    "print('Loading trained models...')\n",
    "enc.load_state_dict(torch.load('../weights/cp-%s' % load_version)['enc_state_dict'])\n",
    "dec.load_state_dict(torch.load('../weights/cp-%s' % load_version)['dec_state_dict'])"
   ]
  },
  {
   "cell_type": "code",
   "execution_count": 2,
   "metadata": {},
   "outputs": [],
   "source": [
    "# from sebm.eval import plot_samples_vae, compress_tsne_vae, plot_tsne\n",
    "\n",
    "# for (images, _) in test_data:\n",
    "#     break\n",
    "# images = images.cuda().to(device)\n",
    "# latents, q_log_prob = enc.forward(images)\n",
    "# recons, ll, p_log_prob = dec.forward(latents, images)\n",
    "# plot_samples_vae(images, recons.view(batch_size, 28, 28), data_name='VAE_%s' % heldout_class)"
   ]
  },
  {
   "cell_type": "code",
   "execution_count": 3,
   "metadata": {},
   "outputs": [],
   "source": [
    "# zs2, ys = compress_tsne_vae(test_data, enc, device)\n"
   ]
  },
  {
   "cell_type": "code",
   "execution_count": 4,
   "metadata": {},
   "outputs": [],
   "source": [
    "# plot_tsne(10, zs2, ys, 'VAE_%s' % heldout_class)"
   ]
  },
  {
   "cell_type": "code",
   "execution_count": 7,
   "metadata": {},
   "outputs": [
    {
     "name": "stdout",
     "output_type": "stream",
     "text": [
      "Loading dataset=mnist...\n",
      "Note: downsampling function is Resize(size=1, interpolation=PIL.Image.BILINEAR)\n",
      "run test set..\n",
      "Loading dataset=fashionmnist...\n",
      "Note: downsampling function is Resize(size=1, interpolation=PIL.Image.BILINEAR)\n",
      "run test set..\n"
     ]
    }
   ],
   "source": [
    "from sebm.eval import ll_hist_vae\n",
    "data_dir = '/home/hao/Research/sebm_data/'\n",
    "dataset = 'mnist'\n",
    "sample_size = 1\n",
    "LLs_mnist = ll_hist_vae(dataset, data_dir, enc, dec, device, sample_size)\n",
    "\n",
    "dataset = 'fashionmnist'\n",
    "LLs_fashionmnist = ll_hist_vae(dataset, data_dir, enc, dec, device, sample_size)"
   ]
  },
  {
   "cell_type": "code",
   "execution_count": 8,
   "metadata": {},
   "outputs": [
    {
     "data": {
      "image/png": "[encoded data removed]",
      "text/plain": [
       "<Figure size 432x288 with 1 Axes>"
      ]
     },
     "metadata": {
      "needs_background": "light"
     },
     "output_type": "display_data"
    }
   ],
   "source": [
    "import matplotlib.pyplot as plt\n",
    "_ = plt.hist(LLs_mnist, bins=100, label='MNIST', alpha=.3)\n",
    "_ = plt.hist(LLs_fashionmnist, bins=100, label='FashionMNIST', alpha=.3)"
   ]
  },
  {
   "cell_type": "code",
   "execution_count": null,
   "metadata": {},
   "outputs": [],
   "source": []
  }
 ],
 "metadata": {
  "kernelspec": {
   "display_name": "Python 3",
   "language": "python",
   "name": "python3"
  },
  "language_info": {
   "codemirror_mode": {
    "name": "ipython",
    "version": 3
   },
   "file_extension": ".py",
   "mimetype": "text/x-python",
   "name": "python",
   "nbconvert_exporter": "python",
   "pygments_lexer": "ipython3",
   "version": "3.7.3"
  }
 },
 "nbformat": 4,
 "nbformat_minor": 4
}
