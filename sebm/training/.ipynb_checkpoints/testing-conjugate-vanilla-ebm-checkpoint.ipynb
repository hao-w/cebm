{
 "cells": [
  {
   "cell_type": "code",
   "execution_count": null,
   "metadata": {},
   "outputs": [],
   "source": [
    "%matplotlib inline\n",
    "import torch\n",
    "import matplotlib.pyplot as plt\n",
    "import matplotlib.gridspec as gridspec\n",
    "from ffebm.data import load_mnist\n",
    "from ffebm.data_noise import DATA_NOISE_sampler\n",
    "from ffebm.sgld import SGLD_sampler\n",
    "from ffebm.nets.conjugate_vanilla_ebm import Energy_function\n",
    "\n",
    "CUDA = torch.cuda.is_available()\n",
    "if CUDA:\n",
    "    DEVICE = torch.device('cuda:1')\n",
    "print('torch:', torch.__version__, 'CUDA:', CUDA)\n",
    "#     DNSs = [3e-2, 1e-2]\n",
    "#     SGLDNSs = [7.5e-3, 1.5e-2]\n",
    "#     REGs = [1e-2, 1e-3]\n",
    "## EBM hyper-parameters\n",
    "data_noise_std = 3e-2\n",
    "sgld_noise_std = 7.5e-3\n",
    "sgld_step_size = 2\n",
    "sgld_num_steps = 50\n",
    "buffer_size = 5000\n",
    "buffer_percent = 0.95\n",
    "reg_alpha = 1e-3\n",
    "lr = 5e-5\n",
    "latent_dim = 128\n",
    "LOAD_VERSION = 'mnist-conjugate_sgld-latentdim=%d-lr=%.2E-data_noise_std=%.2E-sgld_noise_std=%.2E-sgld_step_size=%.2E-sgld_num_steps=%.2E-buffer_size=%d-buffer_percent=%.2f-reg_alpha=%.2E' % (latent_dim, lr, data_noise_std, sgld_noise_std, sgld_step_size, sgld_num_steps, buffer_size, buffer_percent,reg_alpha)\n",
    "# ebm-mnist-conjugate_sgld-latentdim=128-lr=5.00E-05-data_noise_std=3.00E-02-sgld_noise_std=7.50E-03-sgld_step_size=2.00E+00-sgld_num_steps=5.00E+01-buffer_size=5000-buffer_percent=0.95-reg_alpha=1.00E-03\n",
    "print('Initialize data noise sampler...')\n",
    "if data_noise_std == 0.0:\n",
    "    data_noise_sampler = None\n",
    "elif data_noise_std > 0:\n",
    "    data_noise_sampler = DATA_NOISE_sampler(data_noise_std, CUDA, DEVICE)\n",
    "else:\n",
    "    raise ValueError\n",
    "\n",
    "print('Initialize sgld sampler...')\n",
    "sgld_sampler = SGLD_sampler(noise_std=1e-3,\n",
    "                            step_size=2,\n",
    "                            buffer_size=None,\n",
    "                            buffer_percent=None,\n",
    "                            grad_clipping=False,\n",
    "                            CUDA=CUDA,\n",
    "                            DEVICE=DEVICE)\n",
    "\n",
    "print('Initialize EBM and optimizer...')\n",
    "ebm = Energy_function(latent_dim=latent_dim, CUDA=CUDA, DEVICE=DEVICE)\n",
    "if CUDA:\n",
    "    with torch.cuda.device(DEVICE):\n",
    "        ebm.cuda()\n",
    "ebm.load_state_dict(torch.load('../weights/grid_search/ebm-%s' % LOAD_VERSION))"
   ]
  },
  {
   "cell_type": "code",
   "execution_count": 1,
   "metadata": {},
   "outputs": [
    {
     "data": {
      "text/plain": [
       "SimpleNet(\n",
       "  (cnn_block): Sequential(\n",
       "    (0): Conv2d(1, 64, kernel_size=(3, 3), stride=(1, 1), padding=(1, 1))\n",
       "    (1): Swish()\n",
       "    (2): Conv2d(64, 64, kernel_size=(4, 4), stride=(2, 2), padding=(1, 1))\n",
       "    (3): Swish()\n",
       "    (4): Conv2d(64, 32, kernel_size=(4, 4), stride=(2, 2), padding=(1, 1))\n",
       "    (5): Swish()\n",
       "    (6): Conv2d(32, 32, kernel_size=(4, 4), stride=(2, 2), padding=(1, 1))\n",
       "    (7): Swish()\n",
       "  )\n",
       "  (flatten): Flatten()\n",
       "  (mlp_block): Sequential(\n",
       "    (0): Linear(in_features=288, out_features=128, bias=True)\n",
       "    (1): Swish()\n",
       "    (2): Linear(in_features=128, out_features=10, bias=True)\n",
       "  )\n",
       ")"
      ]
     },
     "execution_count": 1,
     "metadata": {},
     "output_type": "execute_result"
    }
   ],
   "source": [
    "from sebm.nets import SimpleNet\n",
    "SimpleNet(im_height=28, \n",
    "          im_width=28, \n",
    "          input_channels=1, \n",
    "          channels=[64, 64, 32, 32], \n",
    "          kernels=[3, 4, 4, 4], \n",
    "          strides=[1, 2, 2, 2], \n",
    "          paddings=[1, 1, 1, 1], \n",
    "          hidden_dim=[128],\n",
    "          latent_dim=10,\n",
    "          activation='Swish',\n",
    "          leak=0.1)"
   ]
  },
  {
   "cell_type": "code",
   "execution_count": null,
   "metadata": {},
   "outputs": [],
   "source": [
    "test_batch_size = 10\n",
    "images_ebm = sgld_sampler.sgld_update(ebm=ebm, \n",
    "                                     batch_size=test_batch_size, \n",
    "                                     pixels_size=28, \n",
    "                                     num_steps=5000, \n",
    "                                     persistent=False)\n",
    "images_ebm = images_ebm.squeeze(1).cpu().detach()\n",
    "images_ebm = torch.clamp(images_ebm, min=-1, max=1) * 0.5 + 0.5"
   ]
  },
  {
   "cell_type": "code",
   "execution_count": null,
   "metadata": {},
   "outputs": [],
   "source": [
    "gs = gridspec.GridSpec(int(test_batch_size/10), 10)\n",
    "gs.update(left=0.0 , bottom=0.0, right=1.0, top=1.0, wspace=0, hspace=0)\n",
    "fig = plt.figure(figsize=(10, 10*int(test_batch_size/10)/ 10))\n",
    "for i in range(test_batch_size):\n",
    "    ax = fig.add_subplot(gs[int(i/10), i%10])\n",
    "    ax.imshow(images_ebm[i], cmap='gray', vmin=0, vmax=1.0)\n",
    "    ax.set_xticks([])\n",
    "    ax.set_yticks([])\n",
    "# plt.savefig('ebm_samples.png')"
   ]
  },
  {
   "cell_type": "code",
   "execution_count": null,
   "metadata": {},
   "outputs": [],
   "source": []
  },
  {
   "cell_type": "code",
   "execution_count": null,
   "metadata": {},
   "outputs": [],
   "source": []
  }
 ],
 "metadata": {
  "kernelspec": {
   "display_name": "Python 3",
   "language": "python",
   "name": "python3"
  },
  "language_info": {
   "codemirror_mode": {
    "name": "ipython",
    "version": 3
   },
   "file_extension": ".py",
   "mimetype": "text/x-python",
   "name": "python",
   "nbconvert_exporter": "python",
   "pygments_lexer": "ipython3",
   "version": "3.7.3"
  }
 },
 "nbformat": 4,
 "nbformat_minor": 4
}
