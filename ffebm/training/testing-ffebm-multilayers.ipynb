{
 "cells": [
  {
   "cell_type": "code",
   "execution_count": 1,
   "metadata": {},
   "outputs": [
    {
     "name": "stdout",
     "output_type": "stream",
     "text": [
      "torch: 1.3.0 CUDA: True\n",
      "Loading EBM, proposal and optimizer...\n"
     ]
    }
   ],
   "source": [
    "%matplotlib inline\n",
    "import torch\n",
    "from ffebm.ffebm_multilayers_testing import load_modules, test_ebm_generation, visual_samples_ebm\n",
    "CUDA = torch.cuda.is_available()\n",
    "if CUDA:\n",
    "    DEVICE = torch.device('cuda:0')\n",
    "print('torch:', torch.__version__, 'CUDA:', CUDA)\n",
    "sample_size = 10\n",
    "latent_dim = 32\n",
    "hidden_dim = 128\n",
    "mnist_size = 28\n",
    "patch_size = 3\n",
    "pixel_dim = patch_size**2\n",
    "num_patches = mnist_size - patch_size + 1\n",
    "lr = 1e-4\n",
    "## EBM hyper-parameters\n",
    "data_noise_std = 0.0\n",
    "reg_alpha = 0.0\n",
    "LOAD_VERSION = 'mnist-ffebm-1layer-%.2Elr-%.2Elatentdim-%.2Eregalpha-%.2Edata_noise_std' % (lr, latent_dim, reg_alpha, data_noise_std) \n",
    "ebm, proposal = load_modules(pixel_dim, hidden_dim, latent_dim, LOAD_VERSION, CUDA, DEVICE)"
   ]
  },
  {
   "cell_type": "code",
   "execution_count": 2,
   "metadata": {},
   "outputs": [],
   "source": [
    "from ffebm.nets.cnn_3layers import Energy_function\n",
    "ebm = Energy_function()\n"
   ]
  },
  {
   "cell_type": "code",
   "execution_count": 4,
   "metadata": {},
   "outputs": [
    {
     "data": {
      "text/plain": [
       "torch.Size([10, 1, 28, 28])"
      ]
     },
     "execution_count": 4,
     "metadata": {},
     "output_type": "execute_result"
    }
   ],
   "source": [
    "from ffebm.data import load_mnist\n",
    "train_data, _ = load_mnist('../../../sebm_data/', 10)\n",
    "for (images, _) in train_data:\n",
    "    break\n",
    "images.shape"
   ]
  },
  {
   "cell_type": "code",
   "execution_count": 5,
   "metadata": {},
   "outputs": [
    {
     "data": {
      "text/plain": [
       "torch.Size([10, 64, 3, 3])"
      ]
     },
     "execution_count": 5,
     "metadata": {},
     "output_type": "execute_result"
    }
   ],
   "source": [
    "ebm.forward(images).shape"
   ]
  },
  {
   "cell_type": "code",
   "execution_count": null,
   "metadata": {},
   "outputs": [],
   "source": [
    "import numpy as np\n",
    "energy_data= []\n",
    "energy_ebm = []\n",
    "f = open('../results/log-mnist-ffebm-1layer-1.00E-04lr-3.20E+01latentdim-0.00E+00regalpha-0.00E+00data_noise_std.txt')\n",
    "for line in f.readlines():\n",
    "    line = line.strip().split(',  ')\n",
    "    energy_data.append(float(line[-2][12:]))\n",
    "    energy_ebm.append(float(line[-1][11:]))\n",
    "energy_data = np.array(energy_data)\n",
    "energy_ebm = np.array(energy_ebm)"
   ]
  },
  {
   "cell_type": "code",
   "execution_count": null,
   "metadata": {},
   "outputs": [],
   "source": [
    "%matplotlib inline\n",
    "import matplotlib.pyplot as plt\n",
    "plt.plot(energy_data, label='data')\n",
    "plt.plot(energy_ebm, label='ebm')\n",
    "plt.legend()"
   ]
  },
  {
   "cell_type": "code",
   "execution_count": null,
   "metadata": {},
   "outputs": [],
   "source": []
  }
 ],
 "metadata": {
  "kernelspec": {
   "display_name": "Python 3",
   "language": "python",
   "name": "python3"
  },
  "language_info": {
   "codemirror_mode": {
    "name": "ipython",
    "version": 3
   },
   "file_extension": ".py",
   "mimetype": "text/x-python",
   "name": "python",
   "nbconvert_exporter": "python",
   "pygments_lexer": "ipython3",
   "version": "3.7.3"
  }
 },
 "nbformat": 4,
 "nbformat_minor": 4
}
